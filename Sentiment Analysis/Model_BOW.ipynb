{
 "cells": [
  {
   "cell_type": "markdown",
   "metadata": {},
   "source": [
    "**Approach - <br>- Data Reading and Understanding<br>- Preprocessing => removal of punctuations, numbers, lemmatization, converting emoticons and emoji's to their language representation<br> - Count vectorizer/TF-IDF vectorizer<br>- Models => LogisticRegression, Multinomial NB, Complement NB**"
   ]
  },
  {
   "cell_type": "code",
   "execution_count": 1,
   "metadata": {
    "id": "8vc9TNQ6-ZhD"
   },
   "outputs": [
    {
     "name": "stderr",
     "output_type": "stream",
     "text": [
      "[nltk_data] Downloading package stopwords to\n",
      "[nltk_data]     C:\\Users\\nehkumar\\AppData\\Roaming\\nltk_data...\n",
      "[nltk_data]   Package stopwords is already up-to-date!\n",
      "[nltk_data] Downloading package wordnet to\n",
      "[nltk_data]     C:\\Users\\nehkumar\\AppData\\Roaming\\nltk_data...\n",
      "[nltk_data]   Package wordnet is already up-to-date!\n",
      "[nltk_data] Downloading package averaged_perceptron_tagger to\n",
      "[nltk_data]     C:\\Users\\nehkumar\\AppData\\Roaming\\nltk_data...\n",
      "[nltk_data]   Package averaged_perceptron_tagger is already up-to-\n",
      "[nltk_data]       date!\n",
      "[nltk_data] Downloading package omw-1.4 to\n",
      "[nltk_data]     C:\\Users\\nehkumar\\AppData\\Roaming\\nltk_data...\n",
      "[nltk_data]   Package omw-1.4 is already up-to-date!\n"
     ]
    }
   ],
   "source": [
    "#All imports\n",
    "\n",
    "from helpers import preprocessing\n",
    "from helpers import models\n",
    "\n",
    "import warnings\n",
    "warnings.filterwarnings('ignore')\n",
    "\n",
    "import pandas as pd\n",
    "import numpy as np\n",
    "import matplotlib.pyplot as plt\n",
    "\n",
    "#preprocessing\n",
    "from sklearn.feature_extraction.text import CountVectorizer\n",
    "from sklearn.feature_extraction.text import TfidfVectorizer\n",
    "from sklearn.model_selection import train_test_split"
   ]
  },
  {
   "cell_type": "code",
   "execution_count": 20,
   "metadata": {
    "colab": {
     "base_uri": "https://localhost:8080/"
    },
    "id": "ip7oy7Io-e8l",
    "outputId": "51d6e3d0-416d-442c-86c1-f5e09f10dcbb"
   },
   "outputs": [],
   "source": [
    "#reload if dependent module has changed\n",
    "import importlib\n",
    "importlib.reload(preprocessing)\n",
    "importlib.reload(models)"
   ]
  },
  {
   "cell_type": "markdown",
   "metadata": {
    "id": "TKl5v18fBFQq"
   },
   "source": [
    "### Step 1 - Data Reading and Understanding"
   ]
  },
  {
   "cell_type": "code",
   "execution_count": 4,
   "metadata": {
    "colab": {
     "base_uri": "https://localhost:8080/",
     "height": 206
    },
    "id": "GhLedpNvBEqO",
    "outputId": "b6617fd5-d183-4f46-a3e9-0255bd465a38"
   },
   "outputs": [
    {
     "data": {
      "text/html": [
       "<div>\n",
       "<style scoped>\n",
       "    .dataframe tbody tr th:only-of-type {\n",
       "        vertical-align: middle;\n",
       "    }\n",
       "\n",
       "    .dataframe tbody tr th {\n",
       "        vertical-align: top;\n",
       "    }\n",
       "\n",
       "    .dataframe thead th {\n",
       "        text-align: right;\n",
       "    }\n",
       "</style>\n",
       "<table border=\"1\" class=\"dataframe\">\n",
       "  <thead>\n",
       "    <tr style=\"text-align: right;\">\n",
       "      <th></th>\n",
       "      <th>comment</th>\n",
       "      <th>Sentiment</th>\n",
       "    </tr>\n",
       "  </thead>\n",
       "  <tbody>\n",
       "    <tr>\n",
       "      <th>0</th>\n",
       "      <td>hashtag hashtag hashtag hashtag hashtag hashta...</td>\n",
       "      <td>Neutral</td>\n",
       "    </tr>\n",
       "    <tr>\n",
       "      <th>1</th>\n",
       "      <td>send it pic _x000D_\\n👁_x000D_\\n👉 user</td>\n",
       "      <td>Neutral</td>\n",
       "    </tr>\n",
       "    <tr>\n",
       "      <th>2</th>\n",
       "      <td>if i get it on time maybe 😢</td>\n",
       "      <td>Mixed</td>\n",
       "    </tr>\n",
       "    <tr>\n",
       "      <th>3</th>\n",
       "      <td>gorgeous ❤</td>\n",
       "      <td>Positive</td>\n",
       "    </tr>\n",
       "    <tr>\n",
       "      <th>4</th>\n",
       "      <td>😍😍😍😍</td>\n",
       "      <td>Positive</td>\n",
       "    </tr>\n",
       "  </tbody>\n",
       "</table>\n",
       "</div>"
      ],
      "text/plain": [
       "                                             comment Sentiment\n",
       "0  hashtag hashtag hashtag hashtag hashtag hashta...   Neutral\n",
       "1              send it pic _x000D_\\n👁_x000D_\\n👉 user   Neutral\n",
       "2                        if i get it on time maybe 😢     Mixed\n",
       "3                                         gorgeous ❤  Positive\n",
       "4                                               😍😍😍😍  Positive"
      ]
     },
     "execution_count": 4,
     "metadata": {},
     "output_type": "execute_result"
    }
   ],
   "source": [
    "comments_df = pd.read_excel('./data/comments.xlsx', usecols=['comment','Sentiment' ])\n",
    "comments_df.head()"
   ]
  },
  {
   "cell_type": "code",
   "execution_count": 5,
   "metadata": {
    "colab": {
     "base_uri": "https://localhost:8080/"
    },
    "id": "3WK8hAviBypw",
    "outputId": "e24aefaf-41fa-40e7-aae4-7b4b09477b23"
   },
   "outputs": [
    {
     "name": "stdout",
     "output_type": "stream",
     "text": [
      "<class 'pandas.core.frame.DataFrame'>\n",
      "RangeIndex: 11856 entries, 0 to 11855\n",
      "Data columns (total 2 columns):\n",
      " #   Column     Non-Null Count  Dtype \n",
      "---  ------     --------------  ----- \n",
      " 0   comment    11856 non-null  object\n",
      " 1   Sentiment  11856 non-null  object\n",
      "dtypes: object(2)\n",
      "memory usage: 185.4+ KB\n"
     ]
    }
   ],
   "source": [
    "comments_df.info()"
   ]
  },
  {
   "cell_type": "code",
   "execution_count": 6,
   "metadata": {
    "colab": {
     "base_uri": "https://localhost:8080/"
    },
    "id": "MNxBlXYoC3hq",
    "outputId": "e38e8ad5-90fa-4a27-cde3-418ef659ce78"
   },
   "outputs": [
    {
     "data": {
      "text/plain": [
       "Positive    0.813850\n",
       "Neutral     0.127783\n",
       "Negative    0.052800\n",
       "Mixed       0.005567\n",
       "Name: Sentiment, dtype: float64"
      ]
     },
     "execution_count": 6,
     "metadata": {},
     "output_type": "execute_result"
    }
   ],
   "source": [
    "comments_df['Sentiment'].value_counts(normalize=True)"
   ]
  },
  {
   "cell_type": "markdown",
   "metadata": {
    "id": "BQP4oLiErQxZ"
   },
   "source": [
    "### Step 2 - Data Preparation"
   ]
  },
  {
   "cell_type": "code",
   "execution_count": 7,
   "metadata": {
    "id": "5koKTbOArTv-"
   },
   "outputs": [],
   "source": [
    "#Uses preprocessing module to perform clean up and data preparation\n",
    "def prepare_data(df, is_train):\n",
    "  processed_df = preprocessing.preprocess_data(df, 'comment')\n",
    "  processed_df = preprocessing.remove_stopwords(processed_df, 'spelling_corrected', True)\n",
    "  processed_df = preprocessing.lemmatization(processed_df, 'stopwords_removed')\n",
    "  processed_df = preprocessing.convert_emoji(processed_df, 'lemma_comment')\n",
    "  processed_df = preprocessing.convert_emoticon(processed_df, 'emoji_converted', True)\n",
    "  processed_df['cleaned_comment'] = processed_df['emoticon_converted']\n",
    "\n",
    "  if is_train:\n",
    "    processed_df['target'] = processed_df['Sentiment'].map({\"Neutral\":0, \"Positive\":1, \"Negative\":2, \"Mixed\":3})\n",
    "\n",
    "  return processed_df"
   ]
  },
  {
   "cell_type": "code",
   "execution_count": 8,
   "metadata": {
    "colab": {
     "base_uri": "https://localhost:8080/",
     "height": 206
    },
    "id": "GmnxV1ueiJHq",
    "outputId": "76e33a0f-949f-4bac-a29a-50ffe5da9c03"
   },
   "outputs": [
    {
     "data": {
      "text/html": [
       "<div>\n",
       "<style scoped>\n",
       "    .dataframe tbody tr th:only-of-type {\n",
       "        vertical-align: middle;\n",
       "    }\n",
       "\n",
       "    .dataframe tbody tr th {\n",
       "        vertical-align: top;\n",
       "    }\n",
       "\n",
       "    .dataframe thead th {\n",
       "        text-align: right;\n",
       "    }\n",
       "</style>\n",
       "<table border=\"1\" class=\"dataframe\">\n",
       "  <thead>\n",
       "    <tr style=\"text-align: right;\">\n",
       "      <th></th>\n",
       "      <th>comment</th>\n",
       "      <th>cleaned_comment</th>\n",
       "      <th>target</th>\n",
       "    </tr>\n",
       "  </thead>\n",
       "  <tbody>\n",
       "    <tr>\n",
       "      <th>0</th>\n",
       "      <td>hashtag hashtag hashtag hashtag hashtag hashta...</td>\n",
       "      <td>[hashtag, hashtag, hashtag, hashtag, hashtag, ...</td>\n",
       "      <td>0</td>\n",
       "    </tr>\n",
       "    <tr>\n",
       "      <th>1</th>\n",
       "      <td>send it pic _x000d_\\n👁_x000d_\\n👉 user</td>\n",
       "      <td>[send, picture, eye, backhand_index_pointing_r...</td>\n",
       "      <td>0</td>\n",
       "    </tr>\n",
       "    <tr>\n",
       "      <th>2</th>\n",
       "      <td>if i get it on time maybe 😢</td>\n",
       "      <td>[get, time, maybe, crying_face]</td>\n",
       "      <td>3</td>\n",
       "    </tr>\n",
       "    <tr>\n",
       "      <th>3</th>\n",
       "      <td>gorgeous ❤</td>\n",
       "      <td>[gorgeous, red_heart]</td>\n",
       "      <td>1</td>\n",
       "    </tr>\n",
       "    <tr>\n",
       "      <th>4</th>\n",
       "      <td>😍😍😍😍</td>\n",
       "      <td>[smiling_face_with_heart-eyes, smiling_face_wi...</td>\n",
       "      <td>1</td>\n",
       "    </tr>\n",
       "  </tbody>\n",
       "</table>\n",
       "</div>"
      ],
      "text/plain": [
       "                                             comment  \\\n",
       "0  hashtag hashtag hashtag hashtag hashtag hashta...   \n",
       "1              send it pic _x000d_\\n👁_x000d_\\n👉 user   \n",
       "2                        if i get it on time maybe 😢   \n",
       "3                                         gorgeous ❤   \n",
       "4                                               😍😍😍😍   \n",
       "\n",
       "                                     cleaned_comment  target  \n",
       "0  [hashtag, hashtag, hashtag, hashtag, hashtag, ...       0  \n",
       "1  [send, picture, eye, backhand_index_pointing_r...       0  \n",
       "2                    [get, time, maybe, crying_face]       3  \n",
       "3                              [gorgeous, red_heart]       1  \n",
       "4  [smiling_face_with_heart-eyes, smiling_face_wi...       1  "
      ]
     },
     "execution_count": 8,
     "metadata": {},
     "output_type": "execute_result"
    }
   ],
   "source": [
    "train_processed_df = prepare_data(comments_df, True)\n",
    "train_processed_df[['comment', 'cleaned_comment', 'target']].head()"
   ]
  },
  {
   "cell_type": "markdown",
   "metadata": {
    "id": "NNnKxCPSh_vZ"
   },
   "source": [
    "**Train Val split**"
   ]
  },
  {
   "cell_type": "code",
   "execution_count": 10,
   "metadata": {
    "id": "0hpPUbY6iBwH"
   },
   "outputs": [],
   "source": [
    "#90-10 split for train and val\n",
    "X = train_processed_df['cleaned_comment']\n",
    "y = train_processed_df['target']\n",
    "X_train, X_val, y_train, y_val = train_test_split(X, y, stratify = y, train_size=0.9, random_state=100)"
   ]
  },
  {
   "cell_type": "markdown",
   "metadata": {
    "id": "2CUYplXNh4f-"
   },
   "source": [
    "**Bag Of Words**"
   ]
  },
  {
   "cell_type": "code",
   "execution_count": 11,
   "metadata": {
    "id": "bwoao5lOnhOz"
   },
   "outputs": [],
   "source": [
    "#tokenization is explicitly set to nothing as it has already been taken care off as part of preprocessing\n",
    "def do_nothing_tokenizer(tokens):\n",
    "  return tokens"
   ]
  },
  {
   "cell_type": "code",
   "execution_count": 16,
   "metadata": {
    "id": "3X6hh1lRh3P8"
   },
   "outputs": [],
   "source": [
    "count_vectorizer = CountVectorizer(tokenizer=do_nothing_tokenizer, preprocessor=None, lowercase=False)\n",
    "\n",
    "#constructing a pipeline to perform grid search for hyper-parameter tuning\n",
    "pipeline_elements = [('vect', count_vectorizer)]\n",
    "hyper_params = {'vect__ngram_range': [(1, 1), (1, 2), (2, 2)]}"
   ]
  },
  {
   "cell_type": "markdown",
   "metadata": {
    "id": "dZ_YaQGIkDY3"
   },
   "source": [
    "**TF-IDF**"
   ]
  },
  {
   "cell_type": "code",
   "execution_count": 13,
   "metadata": {
    "id": "i5rcnliUkFlm"
   },
   "outputs": [],
   "source": [
    "tfidf_vectorizer = TfidfVectorizer(tokenizer=do_nothing_tokenizer, preprocessor=None, lowercase=False)\n",
    "pipeline_elements = [('vect', tfidf_vectorizer)]   \n",
    "hyper_params = {'vect__max_df': (0.25, 0.5, 0.75), 'vect__ngram_range': [(1, 1), (1, 2), (2, 2)]}"
   ]
  },
  {
   "cell_type": "markdown",
   "metadata": {
    "id": "I_vxYFClcSXo"
   },
   "source": [
    "### Step 3 - Model Building"
   ]
  },
  {
   "cell_type": "markdown",
   "metadata": {
    "id": "ATIe9ayriesD"
   },
   "source": [
    "**Logistic Regression**"
   ]
  },
  {
   "cell_type": "code",
   "execution_count": null,
   "metadata": {
    "colab": {
     "base_uri": "https://localhost:8080/"
    },
    "id": "t9rYIXy0cSHL",
    "outputId": "03716a9b-a76f-42d2-8414-389f1275f392"
   },
   "outputs": [
    {
     "name": "stdout",
     "output_type": "stream",
     "text": [
      "Fitting 15 folds for each of 108 candidates, totalling 1620 fits\n",
      "train F1 Score: 0.9928243982257667\n"
     ]
    }
   ],
   "source": [
    "#models execution is driven through a helper module \"models\"\n",
    "grid_model = models.logistic_regression_grid(pipeline_elements, hyper_params, X_train, y_train)\n",
    "grid_results = pd.DataFrame({'C':grid_model.cv_results_.get('param_model__C').data, \n",
    "                             'param_vect__ngram_range':grid_model.cv_results_.get('param_vect__ngram_range').data,\n",
    "                             'param_vect__max_df':grid_model.cv_results_.get('param_vect__max_df').data,\n",
    "                             'mean_train_score':grid_model.cv_results_.get('mean_train_score'),\n",
    "                             'mean_test_score':grid_model.cv_results_.get('mean_test_score')})\n",
    "\n",
    "#fetch grid results to determine parameter combination and train and test score to avoid over-fitting\n",
    "grid_results.to_csv('./grid_results.csv', index=False)"
   ]
  },
  {
   "cell_type": "code",
   "execution_count": null,
   "metadata": {
    "colab": {
     "base_uri": "https://localhost:8080/",
     "height": 279
    },
    "id": "u2PPotakvXY7",
    "outputId": "0a1e482a-9d7c-4b1c-8e01-1b27dbc41f25"
   },
   "outputs": [
    {
     "data": {
      "image/png": "[encoded data removed]",
      "text/plain": [
       "<Figure size 432x288 with 1 Axes>"
      ]
     },
     "metadata": {
      "needs_background": "light"
     },
     "output_type": "display_data"
    }
   ],
   "source": [
    "plt.xlabel(\"C\")\n",
    "plt.plot(grid_results['C'], grid_results['mean_train_score'], label='training')\n",
    "plt.plot(grid_results['C'], grid_results['mean_test_score'], label='validation')\n",
    "plt.legend(loc='upper right')\n",
    "plt.show()"
   ]
  },
  {
   "cell_type": "code",
   "execution_count": null,
   "metadata": {
    "colab": {
     "base_uri": "https://localhost:8080/"
    },
    "id": "rVMCyDbdvdT8",
    "outputId": "4ed4e37f-3772-49e0-e417-68c27be459b8"
   },
   "outputs": [
    {
     "name": "stdout",
     "output_type": "stream",
     "text": [
      "train F1 Score: 0.9246983446873855\n",
      "val F1 Score: 0.892515511709761\n"
     ]
    }
   ],
   "source": [
    "#Training X_train on selected hyper param\n",
    "final_vec = TfidfVectorizer(tokenizer=do_nothing_tokenizer, preprocessor=None, lowercase=False, max_df=0.5, ngram_range=(1,1))\n",
    "final_pipeline_elements = [('vect', final_vec)]\n",
    "final_model_params = {'C':1}\n",
    "final_model = models.logistic_regression_pipeline(final_pipeline_elements, final_model_params, X_train, y_train)\n",
    "\n",
    "#evaluate on val\n",
    "models.evaluate(final_model, X_val, y_val, \"val\")"
   ]
  },
  {
   "cell_type": "markdown",
   "metadata": {
    "id": "RUaJg7P5GjhX"
   },
   "source": [
    "**Multinomial Naive Bayes**"
   ]
  },
  {
   "cell_type": "code",
   "execution_count": null,
   "metadata": {
    "colab": {
     "base_uri": "https://localhost:8080/"
    },
    "id": "3CHRihS0GhKG",
    "outputId": "ca731851-ce31-4201-c0aa-61733d27c0ce"
   },
   "outputs": [
    {
     "name": "stdout",
     "output_type": "stream",
     "text": [
      "Fitting 15 folds for each of 45 candidates, totalling 675 fits\n",
      "train F1 Score: 0.984644232446532\n"
     ]
    }
   ],
   "source": [
    "grid_model = models.multinomial_naivebayes_grid(pipeline_elements, hyper_params, X_train, y_train)"
   ]
  },
  {
   "cell_type": "code",
   "execution_count": null,
   "metadata": {
    "id": "kQ_CRca991Yp"
   },
   "outputs": [],
   "source": [
    "grid_results = pd.DataFrame({'alpha':grid_model.cv_results_.get('param_model__alpha').data, \n",
    "                             'param_vect__ngram_range':grid_model.cv_results_.get('param_vect__ngram_range').data,\n",
    "                             'param_vect__max_df':grid_model.cv_results_.get('param_vect__max_df').data,                             \n",
    "                             'mean_train_score':grid_model.cv_results_.get('mean_train_score'),\n",
    "                             'mean_test_score':grid_model.cv_results_.get('mean_test_score')})\n",
    "grid_results.to_csv('./grid_results.csv', index=False)"
   ]
  },
  {
   "cell_type": "code",
   "execution_count": null,
   "metadata": {
    "colab": {
     "base_uri": "https://localhost:8080/",
     "height": 279
    },
    "id": "4F2EnJWH_Qkz",
    "outputId": "c42c8145-5d52-4a8d-d87e-c6252a6a6266"
   },
   "outputs": [
    {
     "data": {
      "image/png": "[encoded data removed]",
      "text/plain": [
       "<Figure size 432x288 with 1 Axes>"
      ]
     },
     "metadata": {
      "needs_background": "light"
     },
     "output_type": "display_data"
    }
   ],
   "source": [
    "plt.xlabel(\"C\")\n",
    "plt.plot(grid_results['alpha'], grid_results['mean_train_score'], label='training')\n",
    "plt.plot(grid_results['alpha'], grid_results['mean_test_score'], label='validation')\n",
    "plt.legend(loc='upper right')\n",
    "plt.show()"
   ]
  },
  {
   "cell_type": "code",
   "execution_count": null,
   "metadata": {
    "colab": {
     "base_uri": "https://localhost:8080/"
    },
    "id": "e0rwwNiO_MZG",
    "outputId": "4ea3d5ce-250c-436a-9733-c42887fd4203"
   },
   "outputs": [
    {
     "name": "stdout",
     "output_type": "stream",
     "text": [
      "train F1 Score: 0.8666534559071031\n",
      "val F1 Score: 0.844405819548204\n"
     ]
    }
   ],
   "source": [
    "#Training X_train on selected hyper param\n",
    "final_vec = TfidfVectorizer(tokenizer=do_nothing_tokenizer, preprocessor=None, lowercase=False, max_df=0.5, ngram_range=(1,2))\n",
    "final_pipeline_elements = [('vect', final_vec)]\n",
    "final_model_params = {'alpha':1}\n",
    "final_model = models.multinomial_naivebayes_pipeline(final_pipeline_elements, final_model_params, X_train, y_train)\n",
    "\n",
    "#evaluate on val\n",
    "models.evaluate(final_model, X_val, y_val, \"val\")"
   ]
  },
  {
   "cell_type": "markdown",
   "metadata": {
    "id": "V52ykggSjdPq"
   },
   "source": [
    "**Complement Naive Bayes**"
   ]
  },
  {
   "cell_type": "code",
   "execution_count": null,
   "metadata": {
    "colab": {
     "base_uri": "https://localhost:8080/"
    },
    "id": "LftOYHM4jhvL",
    "outputId": "ad622849-e6a7-4942-b41f-7cde4d22dea8"
   },
   "outputs": [
    {
     "name": "stdout",
     "output_type": "stream",
     "text": [
      "Fitting 15 folds for each of 90 candidates, totalling 1350 fits\n",
      "train F1 Score: 0.9693456483993078\n"
     ]
    }
   ],
   "source": [
    "grid_model = models.complement_naivebayes_grid(pipeline_elements, hyper_params, X_train, y_train)"
   ]
  },
  {
   "cell_type": "code",
   "execution_count": null,
   "metadata": {
    "id": "HRzTGtF_O08w"
   },
   "outputs": [],
   "source": [
    "grid_results = pd.DataFrame({'alpha':grid_model.cv_results_.get('param_model__alpha').data,\n",
    "                             'norm':grid_model.cv_results_.get('param_model__norm').data,\n",
    "                             'param_vect__ngram_range':grid_model.cv_results_.get('param_vect__ngram_range').data,\n",
    "                             'param_vect__max_df':grid_model.cv_results_.get('param_vect__max_df').data,\n",
    "                             'mean_train_score':grid_model.cv_results_.get('mean_train_score'),\n",
    "                             'mean_test_score':grid_model.cv_results_.get('mean_test_score')})\n",
    "grid_results.to_csv('./grid_results.csv', index=False)"
   ]
  },
  {
   "cell_type": "code",
   "execution_count": null,
   "metadata": {
    "colab": {
     "base_uri": "https://localhost:8080/"
    },
    "id": "RtAdwrWNSczP",
    "outputId": "b0145d91-7495-4373-932f-ac9178b98201"
   },
   "outputs": [
    {
     "name": "stdout",
     "output_type": "stream",
     "text": [
      "train F1 Score: 0.949460086647319\n",
      "val F1 Score: 0.9208717422988981\n"
     ]
    }
   ],
   "source": [
    "#Training X_train on selected hyper param\n",
    "final_vec = TfidfVectorizer(tokenizer=do_nothing_tokenizer, preprocessor=None, lowercase=False, max_df=0.5, ngram_range=(1,1))\n",
    "final_pipeline_elements = [('vect', final_vec)]\n",
    "final_model_params = {'alpha':1, 'norm':True}\n",
    "final_model = models.complement_naivebayes_pipeline(final_pipeline_elements, final_model_params, X_train, y_train)\n",
    "\n",
    "#evaluate on val\n",
    "models.evaluate(final_model, X_val, y_val, \"val\")"
   ]
  },
  {
   "cell_type": "markdown",
   "metadata": {
    "id": "IuyCjdxVHzOE"
   },
   "source": [
    "### Step 4 - Test Prediction"
   ]
  },
  {
   "cell_type": "code",
   "execution_count": 18,
   "metadata": {
    "colab": {
     "base_uri": "https://localhost:8080/",
     "height": 206
    },
    "id": "UW_yvFKScRwu",
    "outputId": "99d111db-2729-410c-9655-b05be0d03b69"
   },
   "outputs": [
    {
     "data": {
      "text/html": [
       "<div>\n",
       "<style scoped>\n",
       "    .dataframe tbody tr th:only-of-type {\n",
       "        vertical-align: middle;\n",
       "    }\n",
       "\n",
       "    .dataframe tbody tr th {\n",
       "        vertical-align: top;\n",
       "    }\n",
       "\n",
       "    .dataframe thead th {\n",
       "        text-align: right;\n",
       "    }\n",
       "</style>\n",
       "<table border=\"1\" class=\"dataframe\">\n",
       "  <thead>\n",
       "    <tr style=\"text-align: right;\">\n",
       "      <th></th>\n",
       "      <th>id</th>\n",
       "      <th>comment</th>\n",
       "    </tr>\n",
       "  </thead>\n",
       "  <tbody>\n",
       "    <tr>\n",
       "      <th>0</th>\n",
       "      <td>1</td>\n",
       "      <td>ouuuu 😍😍</td>\n",
       "    </tr>\n",
       "    <tr>\n",
       "      <th>1</th>\n",
       "      <td>2</td>\n",
       "      <td>i copped sidechick and hustle baby 2.0</td>\n",
       "    </tr>\n",
       "    <tr>\n",
       "      <th>2</th>\n",
       "      <td>3</td>\n",
       "      <td>i have mask acne and acne scars with a normal ...</td>\n",
       "    </tr>\n",
       "    <tr>\n",
       "      <th>3</th>\n",
       "      <td>4</td>\n",
       "      <td>i'm disappointed that your brand is promoting...</td>\n",
       "    </tr>\n",
       "    <tr>\n",
       "      <th>4</th>\n",
       "      <td>5</td>\n",
       "      <td>😢 what a waste of products😢 but genuine art ❤</td>\n",
       "    </tr>\n",
       "  </tbody>\n",
       "</table>\n",
       "</div>"
      ],
      "text/plain": [
       "   id                                            comment\n",
       "0   1                                           ouuuu 😍😍\n",
       "1   2             i copped sidechick and hustle baby 2.0\n",
       "2   3  i have mask acne and acne scars with a normal ...\n",
       "3   4   i'm disappointed that your brand is promoting...\n",
       "4   5      😢 what a waste of products😢 but genuine art ❤"
      ]
     },
     "execution_count": 18,
     "metadata": {},
     "output_type": "execute_result"
    }
   ],
   "source": [
    "#fetch test data for predictions\n",
    "test_df  = pd.read_excel('./data/Test.xlsx')\n",
    "test_df.head()"
   ]
  },
  {
   "cell_type": "code",
   "execution_count": 19,
   "metadata": {
    "colab": {
     "base_uri": "https://localhost:8080/",
     "height": 206
    },
    "id": "uJCIzNwNjyKC",
    "outputId": "3fd3665c-f77f-4ed2-a1ed-a93ab0998d19"
   },
   "outputs": [
    {
     "data": {
      "text/html": [
       "<div>\n",
       "<style scoped>\n",
       "    .dataframe tbody tr th:only-of-type {\n",
       "        vertical-align: middle;\n",
       "    }\n",
       "\n",
       "    .dataframe tbody tr th {\n",
       "        vertical-align: top;\n",
       "    }\n",
       "\n",
       "    .dataframe thead th {\n",
       "        text-align: right;\n",
       "    }\n",
       "</style>\n",
       "<table border=\"1\" class=\"dataframe\">\n",
       "  <thead>\n",
       "    <tr style=\"text-align: right;\">\n",
       "      <th></th>\n",
       "      <th>id</th>\n",
       "      <th>comment</th>\n",
       "      <th>cleaned_comment</th>\n",
       "    </tr>\n",
       "  </thead>\n",
       "  <tbody>\n",
       "    <tr>\n",
       "      <th>0</th>\n",
       "      <td>1</td>\n",
       "      <td>ouuuu 😍😍</td>\n",
       "      <td>[wow, smiling_face_with_heart-eyes, smiling_fa...</td>\n",
       "    </tr>\n",
       "    <tr>\n",
       "      <th>1</th>\n",
       "      <td>2</td>\n",
       "      <td>i copped sidechick and hustle baby 2.0</td>\n",
       "      <td>[copped, sidekick, hustle, baby]</td>\n",
       "    </tr>\n",
       "    <tr>\n",
       "      <th>2</th>\n",
       "      <td>3</td>\n",
       "      <td>i have mask acne and acne scars with a normal ...</td>\n",
       "      <td>[mask, acne, acne, scar, normal, skin, type, w...</td>\n",
       "    </tr>\n",
       "    <tr>\n",
       "      <th>3</th>\n",
       "      <td>4</td>\n",
       "      <td>i'm disappointed that your brand is promoting...</td>\n",
       "      <td>[disappointed, brand, promote, nonsense, funny...</td>\n",
       "    </tr>\n",
       "    <tr>\n",
       "      <th>4</th>\n",
       "      <td>5</td>\n",
       "      <td>😢 what a waste of products😢 but genuine art ❤</td>\n",
       "      <td>[crying_face, waste, product, crying_face, gen...</td>\n",
       "    </tr>\n",
       "  </tbody>\n",
       "</table>\n",
       "</div>"
      ],
      "text/plain": [
       "   id                                            comment  \\\n",
       "0   1                                           ouuuu 😍😍   \n",
       "1   2             i copped sidechick and hustle baby 2.0   \n",
       "2   3  i have mask acne and acne scars with a normal ...   \n",
       "3   4   i'm disappointed that your brand is promoting...   \n",
       "4   5      😢 what a waste of products😢 but genuine art ❤   \n",
       "\n",
       "                                     cleaned_comment  \n",
       "0  [wow, smiling_face_with_heart-eyes, smiling_fa...  \n",
       "1                   [copped, sidekick, hustle, baby]  \n",
       "2  [mask, acne, acne, scar, normal, skin, type, w...  \n",
       "3  [disappointed, brand, promote, nonsense, funny...  \n",
       "4  [crying_face, waste, product, crying_face, gen...  "
      ]
     },
     "execution_count": 19,
     "metadata": {},
     "output_type": "execute_result"
    }
   ],
   "source": [
    "#perform same clean-up as train data\n",
    "test_processed_df = prepare_data(test_df, False)\n",
    "test_processed_df[['id','comment','cleaned_comment']].head()"
   ]
  },
  {
   "cell_type": "code",
   "execution_count": null,
   "metadata": {
    "colab": {
     "base_uri": "https://localhost:8080/"
    },
    "id": "N5WYcYuPjyGf",
    "outputId": "708f2b2c-4c77-42af-e9ba-20b1261914bc"
   },
   "outputs": [
    {
     "name": "stdout",
     "output_type": "stream",
     "text": [
      "[1 0 1 2 1]\n"
     ]
    }
   ],
   "source": [
    "X_test = test_processed_df['cleaned_comment']\n",
    "y_test_pred = final_model.predict(X_test)\n",
    "\n",
    "print(y_test_pred)"
   ]
  },
  {
   "cell_type": "code",
   "execution_count": null,
   "metadata": {
    "id": "x6z_f3Hijx8S"
   },
   "outputs": [],
   "source": [
    "y_test_pred_proba = final_model.predict_proba(X_test)"
   ]
  },
  {
   "cell_type": "code",
   "execution_count": null,
   "metadata": {
    "colab": {
     "base_uri": "https://localhost:8080/"
    },
    "id": "qB3TfkcwsN1J",
    "outputId": "af98a651-e807-42f4-d95e-e0a26845d65f"
   },
   "outputs": [
    {
     "data": {
      "text/plain": [
       "array([[0.00224505, 0.99403352, 0.00173573, 0.0019857 ],\n",
       "       [0.65314807, 0.19009375, 0.11206634, 0.04469184],\n",
       "       [0.16379152, 0.38643835, 0.42076784, 0.02900229],\n",
       "       [0.04745754, 0.02170055, 0.90883504, 0.02200687],\n",
       "       [0.00758248, 0.0175906 , 0.08669329, 0.88813362]])"
      ]
     },
     "execution_count": 66,
     "metadata": {},
     "output_type": "execute_result"
    }
   ],
   "source": [
    "print(y_test_pred_proba)"
   ]
  }
 ],
 "metadata": {
  "colab": {
   "collapsed_sections": [
    "TKl5v18fBFQq"
   ],
   "name": "Model_BOW.ipynb",
   "provenance": []
  },
  "kernelspec": {
   "display_name": "Python 3 (ipykernel)",
   "language": "python",
   "name": "python3"
  },
  "language_info": {
   "codemirror_mode": {
    "name": "ipython",
    "version": 3
   },
   "file_extension": ".py",
   "mimetype": "text/x-python",
   "name": "python",
   "nbconvert_exporter": "python",
   "pygments_lexer": "ipython3",
   "version": "3.9.5"
  }
 },
 "nbformat": 4,
 "nbformat_minor": 1
}
