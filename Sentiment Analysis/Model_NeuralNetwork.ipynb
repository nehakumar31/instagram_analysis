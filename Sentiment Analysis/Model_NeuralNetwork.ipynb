{
 "cells": [
  {
   "cell_type": "markdown",
   "metadata": {
    "colab": {
     "base_uri": "https://localhost:8080/"
    },
    "id": "QoaiQwqUuERq",
    "outputId": "7e8adfff-3da3-45e2-c475-127437f98a0f"
   },
   "source": [
    "**Approach - <br>- Data Reading and Understanding<br>- Preprocessing => removal of punctuations, numbers, lemmatization, fixing contractions, spelling correction<br> - Pretrained embeddings => glove embeddings https://nlp.stanford.edu/data/glove.twitter.27B.zip and emoji embeddings https://github.com/MirunaPislar/emoji2vec/tree/master/models <br>- Tokenizer to convert comments to sequences<br>- Models => Dense Neural Network, Bidirectional LSTM, Bidirectional LSTM with dropout, Bidirectional LSTM with custom attention layer, Bidirectional LSTM with keras attention layer, CNN**"
   ]
  },
  {
   "cell_type": "code",
   "execution_count": null,
   "metadata": {
    "id": "8zp7Cd1pAZEH"
   },
   "outputs": [],
   "source": [
    "#download glove embeddings\n",
    "import urllib.request\n",
    "import zipfile\n",
    "\n",
    "urllib.request.urlretrieve(\"https://nlp.stanford.edu/data/glove.twitter.27B.zip\", \"glove.27B.zip\")\n",
    "\n",
    "with zipfile.ZipFile(\"glove.27B.zip\",\"r\") as zip_ref:\n",
    "    zip_ref.extractall(\"./embeddings\")"
   ]
  },
  {
   "cell_type": "code",
   "execution_count": 3,
   "metadata": {
    "colab": {
     "base_uri": "https://localhost:8080/"
    },
    "id": "Y_e3jHZZ5wtG",
    "outputId": "96a408cf-0d06-4b04-e13d-9c4d45b668b8"
   },
   "outputs": [],
   "source": [
    "#All imports\n",
    "from helpers import preprocessing\n",
    "\n",
    "import math\n",
    "import warnings\n",
    "warnings.filterwarnings('ignore')\n",
    "\n",
    "import pandas as pd\n",
    "import numpy as np\n",
    "import matplotlib.pyplot as plt\n",
    "\n",
    "#preprocessing\n",
    "from sklearn.model_selection import train_test_split\n",
    "\n",
    "#models\n",
    "import tensorflow as tf\n",
    "from tensorflow.keras.preprocessing.text import Tokenizer\n",
    "from tensorflow.keras.preprocessing import sequence\n",
    "import tensorflow.keras.backend as K\n",
    "import tensorflow_addons as tfa\n",
    "from keras_self_attention import SeqSelfAttention"
   ]
  },
  {
   "cell_type": "code",
   "execution_count": null,
   "metadata": {
    "colab": {
     "base_uri": "https://localhost:8080/"
    },
    "id": "DYcOTtu67VfC",
    "outputId": "a3e9c721-44ec-4dc3-86b7-8b68f5213847"
   },
   "outputs": [
    {
     "name": "stderr",
     "output_type": "stream",
     "text": [
      "[nltk_data] Downloading package stopwords to /root/nltk_data...\n",
      "[nltk_data]   Package stopwords is already up-to-date!\n",
      "[nltk_data] Downloading package wordnet to /root/nltk_data...\n",
      "[nltk_data]   Package wordnet is already up-to-date!\n",
      "[nltk_data] Downloading package averaged_perceptron_tagger to\n",
      "[nltk_data]     /root/nltk_data...\n",
      "[nltk_data]   Package averaged_perceptron_tagger is already up-to-\n",
      "[nltk_data]       date!\n",
      "[nltk_data] Downloading package omw-1.4 to /root/nltk_data...\n",
      "[nltk_data]   Package omw-1.4 is already up-to-date!\n"
     ]
    },
    {
     "data": {
      "text/plain": [
       "<module 'models' from '/content/models.py'>"
      ]
     },
     "execution_count": 86,
     "metadata": {},
     "output_type": "execute_result"
    }
   ],
   "source": [
    "#reload\n",
    "import importlib\n",
    "importlib.reload(preprocessing)"
   ]
  },
  {
   "cell_type": "code",
   "execution_count": 4,
   "metadata": {
    "id": "bX7zVYQr_O2B"
   },
   "outputs": [],
   "source": [
    "#constants\n",
    "EMBEDDING_DIM = 100\n",
    "np.random.seed(42)\n",
    "tf.random.set_seed(42)"
   ]
  },
  {
   "cell_type": "markdown",
   "metadata": {
    "id": "88n3LmsF78EX"
   },
   "source": [
    "### Step 1 - Data Reading and Understanding"
   ]
  },
  {
   "cell_type": "code",
   "execution_count": 6,
   "metadata": {
    "colab": {
     "base_uri": "https://localhost:8080/",
     "height": 206
    },
    "id": "EoKRYzNm72r3",
    "outputId": "6f1784dc-577f-4c01-9b88-ca473e791f73"
   },
   "outputs": [
    {
     "data": {
      "text/html": [
       "<div>\n",
       "<style scoped>\n",
       "    .dataframe tbody tr th:only-of-type {\n",
       "        vertical-align: middle;\n",
       "    }\n",
       "\n",
       "    .dataframe tbody tr th {\n",
       "        vertical-align: top;\n",
       "    }\n",
       "\n",
       "    .dataframe thead th {\n",
       "        text-align: right;\n",
       "    }\n",
       "</style>\n",
       "<table border=\"1\" class=\"dataframe\">\n",
       "  <thead>\n",
       "    <tr style=\"text-align: right;\">\n",
       "      <th></th>\n",
       "      <th>comment</th>\n",
       "      <th>Sentiment</th>\n",
       "    </tr>\n",
       "  </thead>\n",
       "  <tbody>\n",
       "    <tr>\n",
       "      <th>0</th>\n",
       "      <td>hashtag hashtag hashtag hashtag hashtag hashta...</td>\n",
       "      <td>Neutral</td>\n",
       "    </tr>\n",
       "    <tr>\n",
       "      <th>1</th>\n",
       "      <td>send it pic _x000D_\\n👁_x000D_\\n👉 user</td>\n",
       "      <td>Neutral</td>\n",
       "    </tr>\n",
       "    <tr>\n",
       "      <th>2</th>\n",
       "      <td>if i get it on time maybe 😢</td>\n",
       "      <td>Mixed</td>\n",
       "    </tr>\n",
       "    <tr>\n",
       "      <th>3</th>\n",
       "      <td>gorgeous ❤</td>\n",
       "      <td>Positive</td>\n",
       "    </tr>\n",
       "    <tr>\n",
       "      <th>4</th>\n",
       "      <td>😍😍😍😍</td>\n",
       "      <td>Positive</td>\n",
       "    </tr>\n",
       "  </tbody>\n",
       "</table>\n",
       "</div>"
      ],
      "text/plain": [
       "                                             comment Sentiment\n",
       "0  hashtag hashtag hashtag hashtag hashtag hashta...   Neutral\n",
       "1              send it pic _x000D_\\n👁_x000D_\\n👉 user   Neutral\n",
       "2                        if i get it on time maybe 😢     Mixed\n",
       "3                                         gorgeous ❤  Positive\n",
       "4                                               😍😍😍😍  Positive"
      ]
     },
     "execution_count": 6,
     "metadata": {},
     "output_type": "execute_result"
    }
   ],
   "source": [
    "#load training data\n",
    "comments_df = pd.read_excel('./data/comments.xlsx', usecols=['comment','Sentiment' ])\n",
    "comments_df.head()"
   ]
  },
  {
   "cell_type": "code",
   "execution_count": 7,
   "metadata": {
    "colab": {
     "base_uri": "https://localhost:8080/"
    },
    "id": "StdYXT007__S",
    "outputId": "8c343dae-ec9a-4ef1-e2ae-15612d40887b"
   },
   "outputs": [
    {
     "name": "stdout",
     "output_type": "stream",
     "text": [
      "<class 'pandas.core.frame.DataFrame'>\n",
      "RangeIndex: 11856 entries, 0 to 11855\n",
      "Data columns (total 2 columns):\n",
      " #   Column     Non-Null Count  Dtype \n",
      "---  ------     --------------  ----- \n",
      " 0   comment    11856 non-null  object\n",
      " 1   Sentiment  11856 non-null  object\n",
      "dtypes: object(2)\n",
      "memory usage: 185.4+ KB\n"
     ]
    }
   ],
   "source": [
    "comments_df.info()"
   ]
  },
  {
   "cell_type": "code",
   "execution_count": 8,
   "metadata": {
    "colab": {
     "base_uri": "https://localhost:8080/"
    },
    "id": "Kkttcmdo8DIM",
    "outputId": "bf52ed1b-2f88-4b18-9ccf-c929f5bb7e27"
   },
   "outputs": [
    {
     "data": {
      "text/plain": [
       "Positive    0.813850\n",
       "Neutral     0.127783\n",
       "Negative    0.052800\n",
       "Mixed       0.005567\n",
       "Name: Sentiment, dtype: float64"
      ]
     },
     "execution_count": 8,
     "metadata": {},
     "output_type": "execute_result"
    }
   ],
   "source": [
    "comments_df['Sentiment'].value_counts(normalize=True)"
   ]
  },
  {
   "cell_type": "markdown",
   "metadata": {
    "id": "20gKaiuW8KCG"
   },
   "source": [
    "### Step 2 - Data Preparation"
   ]
  },
  {
   "cell_type": "code",
   "execution_count": 9,
   "metadata": {
    "id": "Uye-6MQJ8GGi"
   },
   "outputs": [],
   "source": [
    "#clean up and preprocessing using module - preprocessing\n",
    "def prepare_data(df, is_train):\n",
    "  processed_df = preprocessing.preprocess_data(df, 'comment')  \n",
    "  processed_df = preprocessing.convert_emoticon(processed_df, 'spelling_corrected', False)\n",
    "  processed_df['cleaned_comment'] = processed_df['emoticon_converted']\n",
    "\n",
    "  if is_train:\n",
    "    processed_df['target'] = processed_df['Sentiment'].map({\"Neutral\":0, \"Positive\":1, \"Negative\":2, \"Mixed\":3})\n",
    "\n",
    "  return processed_df"
   ]
  },
  {
   "cell_type": "code",
   "execution_count": 10,
   "metadata": {
    "colab": {
     "base_uri": "https://localhost:8080/",
     "height": 206
    },
    "id": "1FFk0U9s8usr",
    "outputId": "611fc7c3-6edc-41e2-988f-47191bea44d9"
   },
   "outputs": [
    {
     "data": {
      "text/html": [
       "<div>\n",
       "<style scoped>\n",
       "    .dataframe tbody tr th:only-of-type {\n",
       "        vertical-align: middle;\n",
       "    }\n",
       "\n",
       "    .dataframe tbody tr th {\n",
       "        vertical-align: top;\n",
       "    }\n",
       "\n",
       "    .dataframe thead th {\n",
       "        text-align: right;\n",
       "    }\n",
       "</style>\n",
       "<table border=\"1\" class=\"dataframe\">\n",
       "  <thead>\n",
       "    <tr style=\"text-align: right;\">\n",
       "      <th></th>\n",
       "      <th>comment</th>\n",
       "      <th>cleaned_comment</th>\n",
       "      <th>target</th>\n",
       "    </tr>\n",
       "  </thead>\n",
       "  <tbody>\n",
       "    <tr>\n",
       "      <th>0</th>\n",
       "      <td>hashtag hashtag hashtag hashtag hashtag hashta...</td>\n",
       "      <td>[hashtag, hashtag, hashtag, hashtag, hashtag, ...</td>\n",
       "      <td>0</td>\n",
       "    </tr>\n",
       "    <tr>\n",
       "      <th>1</th>\n",
       "      <td>send it pic _x000d_\\n👁_x000d_\\n👉 user</td>\n",
       "      <td>[send, it, picture, 👁, 👉, user]</td>\n",
       "      <td>0</td>\n",
       "    </tr>\n",
       "    <tr>\n",
       "      <th>2</th>\n",
       "      <td>if i get it on time maybe 😢</td>\n",
       "      <td>[if, i, get, it, on, time, maybe, 😢]</td>\n",
       "      <td>3</td>\n",
       "    </tr>\n",
       "    <tr>\n",
       "      <th>3</th>\n",
       "      <td>gorgeous ❤</td>\n",
       "      <td>[gorgeous, ❤]</td>\n",
       "      <td>1</td>\n",
       "    </tr>\n",
       "    <tr>\n",
       "      <th>4</th>\n",
       "      <td>😍😍😍😍</td>\n",
       "      <td>[😍, 😍, 😍]</td>\n",
       "      <td>1</td>\n",
       "    </tr>\n",
       "  </tbody>\n",
       "</table>\n",
       "</div>"
      ],
      "text/plain": [
       "                                             comment  \\\n",
       "0  hashtag hashtag hashtag hashtag hashtag hashta...   \n",
       "1              send it pic _x000d_\\n👁_x000d_\\n👉 user   \n",
       "2                        if i get it on time maybe 😢   \n",
       "3                                         gorgeous ❤   \n",
       "4                                               😍😍😍😍   \n",
       "\n",
       "                                     cleaned_comment  target  \n",
       "0  [hashtag, hashtag, hashtag, hashtag, hashtag, ...       0  \n",
       "1                    [send, it, picture, 👁, 👉, user]       0  \n",
       "2               [if, i, get, it, on, time, maybe, 😢]       3  \n",
       "3                                      [gorgeous, ❤]       1  \n",
       "4                                          [😍, 😍, 😍]       1  "
      ]
     },
     "execution_count": 10,
     "metadata": {},
     "output_type": "execute_result"
    }
   ],
   "source": [
    "train_processed_df = prepare_data(comments_df, True)\n",
    "train_processed_df[['comment', 'cleaned_comment', 'target']].head()"
   ]
  },
  {
   "cell_type": "markdown",
   "metadata": {
    "id": "cibSvTdI9CXe"
   },
   "source": [
    "**Train Val split**"
   ]
  },
  {
   "cell_type": "code",
   "execution_count": 11,
   "metadata": {
    "id": "YZr9K1SN8zwi"
   },
   "outputs": [],
   "source": [
    "#90-10 split for train and val\n",
    "X = train_processed_df['cleaned_comment']\n",
    "y = train_processed_df['target']\n",
    "X_train, X_val, y_train, y_val = train_test_split(X, y, stratify = y, train_size=0.9, random_state=100)"
   ]
  },
  {
   "cell_type": "markdown",
   "metadata": {
    "id": "6DTn6UPr9MXm"
   },
   "source": [
    "**Word Embeddings**"
   ]
  },
  {
   "cell_type": "code",
   "execution_count": 13,
   "metadata": {
    "id": "jzlTkfhN9G88"
   },
   "outputs": [],
   "source": [
    "#load glove pretrained embeddings\n",
    "pretrained_embeddings = dict()\n",
    "with open('./embeddings/glove.twitter.27B.100d.txt','r',encoding='utf-8') as file_handle:\n",
    "  for line in file_handle:\n",
    "    values = line.split()\n",
    "    word = values[0]\n",
    "    vector = np.asarray(values[1:],'float32')\n",
    "    pretrained_embeddings[word]=vector"
   ]
  },
  {
   "cell_type": "code",
   "execution_count": 15,
   "metadata": {
    "id": "g9R6Pd7zKF__"
   },
   "outputs": [],
   "source": [
    "#load pre-trained emoji embeddings\n",
    "emoji_embeddings = dict()\n",
    "with open('./embeddings/emoji_embeddings_100d.txt','r',encoding='utf-8') as file_handle:\n",
    "  for line in file_handle:\n",
    "    values = line.split()\n",
    "    word = values[0]\n",
    "    vector = np.asarray(values[1:],'float32')\n",
    "    emoji_embeddings[word]=vector"
   ]
  },
  {
   "cell_type": "code",
   "execution_count": 16,
   "metadata": {
    "id": "UuRdDt-h-MTn"
   },
   "outputs": [],
   "source": [
    "#helper function to convert input comment to its embedding vector representation\n",
    "def vocab_embeddings(word_vocab):\n",
    "  num_words = len(word_vocab) + 1\n",
    "  word_embeddings = np.zeros((num_words, EMBEDDING_DIM))\n",
    "\n",
    "  for word, i in word_vocab.items():\n",
    "    if word in pretrained_embeddings:\n",
    "      word_embeddings[i] = pretrained_embeddings[word]\n",
    "    elif word in emoji_embeddings:\n",
    "      word_embeddings[i] = emoji_embeddings[word]\n",
    "\n",
    "  return word_embeddings\n"
   ]
  },
  {
   "cell_type": "markdown",
   "metadata": {
    "id": "491CK0t8BUgZ"
   },
   "source": [
    "**Tokenizer to convert comments to sequences with a length not more than 30**"
   ]
  },
  {
   "cell_type": "code",
   "execution_count": 17,
   "metadata": {
    "id": "P7EgRx7JBT_2"
   },
   "outputs": [],
   "source": [
    "class CustomTokenizer:\n",
    "  def __init__(self):\n",
    "    self.tokenizer = Tokenizer()\n",
    "\n",
    "  def fit(self, train_text):\n",
    "    max_length = max(train_text.map(len))\n",
    "    self.max_length = min(max_length, 30)\n",
    "    self.tokenizer.fit_on_texts(train_text)\n",
    "\n",
    "  def vectorize_input(self, comments):\n",
    "    comments_seq = self.tokenizer.texts_to_sequences(comments)\n",
    "    comments_seq = sequence.pad_sequences(comments_seq, maxlen=self.max_length, padding='post', truncating='post')\n",
    "    return comments_seq"
   ]
  },
  {
   "cell_type": "code",
   "execution_count": 18,
   "metadata": {
    "id": "cBFmSYVaCCEq"
   },
   "outputs": [],
   "source": [
    "cust_tokenizer = CustomTokenizer()\n",
    "cust_tokenizer.fit(X_train)\n",
    "word_embeddings = vocab_embeddings(cust_tokenizer.tokenizer.word_index)\n",
    "\n",
    "#invoke tokenizer to generate sequences for both training and val data\n",
    "#one hot representation for target labels\n",
    "X_train_transformed = cust_tokenizer.vectorize_input(X_train)\n",
    "y_train_transformed = tf.keras.utils.to_categorical(y_train)\n",
    "\n",
    "X_val_transformed = cust_tokenizer.vectorize_input(X_val)\n",
    "y_val_transformed = tf.keras.utils.to_categorical(y_val)"
   ]
  },
  {
   "cell_type": "markdown",
   "metadata": {
    "id": "r4EULTrxBPky"
   },
   "source": [
    "### Step 3 - Model Building"
   ]
  },
  {
   "cell_type": "code",
   "execution_count": 19,
   "metadata": {
    "id": "mwEqg_jAC_zX"
   },
   "outputs": [],
   "source": [
    "INPUT_DIM = cust_tokenizer.max_length\n",
    "BATCH_SZ = 32"
   ]
  },
  {
   "cell_type": "code",
   "execution_count": 20,
   "metadata": {
    "id": "RJtTKjKIO81t"
   },
   "outputs": [],
   "source": [
    "#evaluating using f1 score to get a balance of precision and recall\n",
    "def f1_score(true, pred):\n",
    "  metric = tfa.metrics.F1Score(num_classes=4, average='weighted', threshold=0.5)\n",
    "  metric.update_state(true, pred)\n",
    "  result = metric.result()\n",
    "  return result.numpy()  "
   ]
  },
  {
   "cell_type": "code",
   "execution_count": 21,
   "metadata": {
    "id": "xK6wCY1Pit2p"
   },
   "outputs": [],
   "source": [
    "#helper function to plot metrics - accuracy and f1-score for both training and validation\n",
    "def plot_results(x, metric, history):  \n",
    "  val_metric = 'val_' + metric\n",
    "  plt.plot(x, history.history[metric], label='training')\n",
    "  plt.plot(x, history.history[val_metric], label='validation')\n",
    "  plt.legend(loc='upper right')\n",
    "  plt.show()"
   ]
  },
  {
   "cell_type": "code",
   "execution_count": 22,
   "metadata": {
    "id": "2obsA0dKrS4F"
   },
   "outputs": [],
   "source": [
    "#helper function to train models based on passed architecture\n",
    "def train_model(model, epochs, lr, name):\n",
    "  optimizer = tf.keras.optimizers.Adam(lr=lr)\n",
    "  model.compile(optimizer, loss=tf.keras.losses.CategoricalCrossentropy(), \n",
    "               metrics=['acc',f1_score], run_eagerly=True)\n",
    "  \n",
    "  #lr_schedule = tf.keras.callbacks.LearningRateScheduler(lambda epoch: 1e-3 * 10**(epoch / 30))\n",
    "  early_stopping = tf.keras.callbacks.EarlyStopping(patience=50)\n",
    "  model_name = name + \"_best_model.h5\"  \n",
    "  model_checkpoint = tf.keras.callbacks.ModelCheckpoint(model_name, save_best_only=True, verbose=1,\n",
    "                                                     mode='max', monitor='val_f1_score')\n",
    "\n",
    "  history = model.fit(X_train_transformed, y_train_transformed, batch_size=BATCH_SZ, epochs=epochs, \n",
    "                    validation_data=(X_val_transformed, y_val_transformed), callbacks=[early_stopping, model_checkpoint])  \n",
    "    \n",
    "  return model, history"
   ]
  },
  {
   "cell_type": "markdown",
   "metadata": {
    "id": "YexGmT0rlYMg"
   },
   "source": [
    "**Model 1 - Embedding with Dense layers**"
   ]
  },
  {
   "cell_type": "code",
   "execution_count": null,
   "metadata": {
    "id": "gEdt9NmKDBEO"
   },
   "outputs": [],
   "source": [
    "from tensorflow.python.framework.ops import eager_run\n",
    "#Define a sequential model with embedding layer to generate embeddings of input sequences\n",
    "model = tf.keras.models.Sequential([\n",
    "          tf.keras.layers.Embedding(word_embeddings.shape[0], EMBEDDING_DIM, embeddings_initializer=tf.constant_initializer(word_embeddings),\n",
    "                                    input_length = INPUT_DIM, trainable=False),          \n",
    "          tf.keras.layers.Flatten(),\n",
    "          tf.keras.layers.Dense(64, activation='tanh'),       \n",
    "          tf.keras.layers.Dropout(0.2),   \n",
    "          tf.keras.layers.Dense(32, activation='tanh'),       \n",
    "          tf.keras.layers.Dropout(0.2),  \n",
    "          tf.keras.layers.Dense(4, activation='softmax')\n",
    "          ])\n",
    "name = \"dense\"\n",
    "model, history = train_model(model, epochs=100, lr=0.001, name=name)"
   ]
  },
  {
   "cell_type": "markdown",
   "metadata": {
    "id": "LNkDuoj_jWNR"
   },
   "source": [
    "**Model 2 - Embedding with Bidirectional LSTM and dropout**"
   ]
  },
  {
   "cell_type": "code",
   "execution_count": null,
   "metadata": {
    "id": "3zjvBiy0wOHQ"
   },
   "outputs": [],
   "source": [
    "model = tf.keras.models.Sequential([\n",
    "          tf.keras.layers.Embedding(word_embeddings.shape[0], EMBEDDING_DIM, embeddings_initializer=tf.constant_initializer(word_embeddings),\n",
    "                                    input_length = INPUT_DIM, trainable=False),\n",
    "          tf.keras.layers.Bidirectional(tf.keras.layers.LSTM(128, dropout=0.2)),          \n",
    "          tf.keras.layers.Dense(4, activation='softmax')\n",
    "          ])\n",
    "\n",
    "name = \"LSTM\"\n",
    "model, history = train_model(model, epochs=100, lr=0.0001, name=name)"
   ]
  },
  {
   "cell_type": "code",
   "execution_count": null,
   "metadata": {
    "colab": {
     "base_uri": "https://localhost:8080/",
     "height": 513
    },
    "id": "QWBE5gsahkTq",
    "outputId": "0c4bd257-dc2e-4a43-907b-f7a4cecfc8c1"
   },
   "outputs": [
    {
     "data": {
      "image/png": "[encoded data removed]",
      "text/plain": [
       "<Figure size 432x288 with 1 Axes>"
      ]
     },
     "metadata": {
      "needs_background": "light"
     },
     "output_type": "display_data"
    },
    {
     "data": {
      "image/png": "[encoded data removed]",
      "text/plain": [
       "<Figure size 432x288 with 1 Axes>"
      ]
     },
     "metadata": {
      "needs_background": "light"
     },
     "output_type": "display_data"
    }
   ],
   "source": [
    "plot_results(range(1,len(history.history['acc'])+1), 'acc', history)\n",
    "plot_results(range(1,len(history.history['f1_score'])+1), 'f1_score', history)"
   ]
  },
  {
   "cell_type": "markdown",
   "metadata": {
    "id": "wyBEl_2gqqrQ"
   },
   "source": [
    "**Model 3 - LSTM with custom attention layer with pre-trained embeddings**"
   ]
  },
  {
   "cell_type": "code",
   "execution_count": 25,
   "metadata": {
    "id": "tFA5xoHW71iU"
   },
   "outputs": [],
   "source": [
    "class Attention(tf.keras.layers.Layer):    \n",
    "    def __init__(self, return_sequences=True):\n",
    "        self.return_sequences = return_sequences\n",
    "        super(Attention,self).__init__()\n",
    "        \n",
    "    def build(self, input_shape):        \n",
    "        self.W=self.add_weight(name=\"att_weight\", shape=(input_shape[-1],1),\n",
    "                               initializer=\"normal\")\n",
    "        self.b=self.add_weight(name=\"att_bias\", shape=(input_shape[1],1),\n",
    "                               initializer=\"zeros\")\n",
    "        \n",
    "        super(Attention,self).build(input_shape)\n",
    "        \n",
    "    def call(self, x):        \n",
    "        e = K.tanh(K.dot(x,self.W)+self.b)\n",
    "        a = K.softmax(e, axis=1)\n",
    "        output = x*a\n",
    "        \n",
    "        if self.return_sequences:\n",
    "            return output\n",
    "        \n",
    "        return K.sum(output, axis=1)\n",
    "\n",
    "    def compute_output_shape(self,input_shape):\n",
    "        return (input_shape[0],input_shape[-1])\n",
    "\n",
    "    def get_config(self):\n",
    "        return super(Attention,self).get_config()"
   ]
  },
  {
   "cell_type": "code",
   "execution_count": null,
   "metadata": {
    "id": "3SdHFmpEquTd"
   },
   "outputs": [],
   "source": [
    "model = tf.keras.models.Sequential([\n",
    "          tf.keras.layers.Embedding(word_embeddings.shape[0], EMBEDDING_DIM, embeddings_initializer=tf.constant_initializer(word_embeddings),\n",
    "                                    input_length = INPUT_DIM, trainable=False),\n",
    "          tf.keras.layers.Bidirectional(tf.keras.layers.LSTM(128, return_sequences=True, dropout=0.2)), \n",
    "          Attention(return_sequences = False),         \n",
    "          tf.keras.layers.Dense(4, activation='softmax')\n",
    "          ])\n",
    "\n",
    "name = \"LSTM_customattention\"\n",
    "model, history = train_model(model, epochs=100, lr=0.0001, name=name)"
   ]
  },
  {
   "cell_type": "code",
   "execution_count": null,
   "metadata": {
    "colab": {
     "base_uri": "https://localhost:8080/",
     "height": 513
    },
    "id": "hRglkJnp72bL",
    "outputId": "034e1c5a-9984-4e7d-e253-7c0f86fa7ae6"
   },
   "outputs": [
    {
     "data": {
      "image/png": "[encoded data removed]",
      "text/plain": [
       "<Figure size 432x288 with 1 Axes>"
      ]
     },
     "metadata": {
      "needs_background": "light"
     },
     "output_type": "display_data"
    },
    {
     "data": {
      "image/png": "[encoded data removed]",
      "text/plain": [
       "<Figure size 432x288 with 1 Axes>"
      ]
     },
     "metadata": {
      "needs_background": "light"
     },
     "output_type": "display_data"
    }
   ],
   "source": [
    "plot_results(range(1,len(history.history['acc'])+1), 'acc', history)\n",
    "plot_results(range(1,len(history.history['f1_score'])+1), 'f1_score', history)"
   ]
  },
  {
   "cell_type": "markdown",
   "metadata": {},
   "source": [
    "**Model 4 - Bidrection LSTM with custom attention layer and embeddings as trainable layer**"
   ]
  },
  {
   "cell_type": "code",
   "execution_count": null,
   "metadata": {
    "id": "idDAOnj77-ix"
   },
   "outputs": [],
   "source": [
    "model = tf.keras.models.Sequential([\n",
    "          tf.keras.layers.Embedding(word_embeddings.shape[0], EMBEDDING_DIM, embeddings_initializer=tf.constant_initializer(word_embeddings),\n",
    "                                    input_length = INPUT_DIM, trainable=True),\n",
    "          tf.keras.layers.Bidirectional(tf.keras.layers.LSTM(128, return_sequences=True, dropout=0.2)), \n",
    "          Attention(return_sequences = False),         \n",
    "          tf.keras.layers.Dense(4, activation='softmax')\n",
    "          ])\n",
    "\n",
    "name = \"LSTM_customattention\"\n",
    "model, history = train_model(model, epochs=100, lr=0.0001, name=name)"
   ]
  },
  {
   "cell_type": "code",
   "execution_count": null,
   "metadata": {
    "colab": {
     "base_uri": "https://localhost:8080/",
     "height": 515
    },
    "id": "eWCvTJGsGEYD",
    "outputId": "d09bf747-a3f6-4162-b0bf-b6faa6243183"
   },
   "outputs": [
    {
     "data": {
      "image/png": "[encoded data removed]",
      "text/plain": [
       "<Figure size 432x288 with 1 Axes>"
      ]
     },
     "metadata": {
      "needs_background": "light"
     },
     "output_type": "display_data"
    },
    {
     "data": {
      "image/png": "[encoded data removed]",
      "text/plain": [
       "<Figure size 432x288 with 1 Axes>"
      ]
     },
     "metadata": {
      "needs_background": "light"
     },
     "output_type": "display_data"
    }
   ],
   "source": [
    "plot_results(range(1,len(history.history['acc'])+1), 'acc', history)\n",
    "plot_results(range(1,len(history.history['f1_score'])+1), 'f1_score', history)"
   ]
  },
  {
   "cell_type": "markdown",
   "metadata": {
    "id": "7wwB_bUL9TZ1"
   },
   "source": [
    "**Model 4 - LSTM with keras attention layer**"
   ]
  },
  {
   "cell_type": "code",
   "execution_count": null,
   "metadata": {
    "colab": {
     "base_uri": "https://localhost:8080/"
    },
    "id": "iU5EqnljQAMw",
    "outputId": "09cad39d-ee0f-44d7-8a2e-2759d9b95885"
   },
   "outputs": [
    {
     "name": "stdout",
     "output_type": "stream",
     "text": [
      "Epoch 1/100\n",
      "334/334 [==============================] - ETA: 0s - loss: 0.5851 - acc: 0.8328 - f1_score: 0.6895\n",
      "Epoch 00001: val_f1_score improved from -inf to 0.85417, saving model to LSTM_attention_best_model.h5\n",
      "334/334 [==============================] - 31s 92ms/step - loss: 0.5851 - acc: 0.8328 - f1_score: 0.6895 - val_loss: 0.3902 - val_acc: 0.8735 - val_f1_score: 0.8542\n",
      "Epoch 2/100\n",
      "334/334 [==============================] - ETA: 0s - loss: 0.3773 - acc: 0.8655 - f1_score: 0.8399\n",
      "Epoch 00002: val_f1_score improved from 0.85417 to 0.86178, saving model to LSTM_attention_best_model.h5\n",
      "334/334 [==============================] - 31s 92ms/step - loss: 0.3773 - acc: 0.8655 - f1_score: 0.8399 - val_loss: 0.3437 - val_acc: 0.8761 - val_f1_score: 0.8618\n",
      "Epoch 3/100\n",
      "334/334 [==============================] - ETA: 0s - loss: 0.3504 - acc: 0.8739 - f1_score: 0.8509\n",
      "Epoch 00003: val_f1_score did not improve from 0.86178\n",
      "334/334 [==============================] - 30s 89ms/step - loss: 0.3504 - acc: 0.8739 - f1_score: 0.8509 - val_loss: 0.3307 - val_acc: 0.8718 - val_f1_score: 0.8611\n",
      "Epoch 4/100\n",
      "334/334 [==============================] - ETA: 0s - loss: 0.3350 - acc: 0.8779 - f1_score: 0.8583\n",
      "Epoch 00004: val_f1_score did not improve from 0.86178\n",
      "334/334 [==============================] - 31s 92ms/step - loss: 0.3350 - acc: 0.8779 - f1_score: 0.8583 - val_loss: 0.3480 - val_acc: 0.8777 - val_f1_score: 0.8610\n",
      "Epoch 5/100\n",
      "334/334 [==============================] - ETA: 0s - loss: 0.3238 - acc: 0.8827 - f1_score: 0.8653\n",
      "Epoch 00005: val_f1_score improved from 0.86178 to 0.86336, saving model to LSTM_attention_best_model.h5\n",
      "334/334 [==============================] - 31s 93ms/step - loss: 0.3238 - acc: 0.8827 - f1_score: 0.8653 - val_loss: 0.3137 - val_acc: 0.8786 - val_f1_score: 0.8634\n",
      "Epoch 6/100\n",
      "334/334 [==============================] - ETA: 0s - loss: 0.3175 - acc: 0.8849 - f1_score: 0.8672\n",
      "Epoch 00006: val_f1_score improved from 0.86336 to 0.87122, saving model to LSTM_attention_best_model.h5\n",
      "334/334 [==============================] - 30s 90ms/step - loss: 0.3175 - acc: 0.8849 - f1_score: 0.8672 - val_loss: 0.3072 - val_acc: 0.8803 - val_f1_score: 0.8712\n",
      "Epoch 7/100\n",
      "334/334 [==============================] - ETA: 0s - loss: 0.3078 - acc: 0.8870 - f1_score: 0.8715\n",
      "Epoch 00007: val_f1_score did not improve from 0.87122\n",
      "334/334 [==============================] - 29s 87ms/step - loss: 0.3078 - acc: 0.8870 - f1_score: 0.8715 - val_loss: 0.2958 - val_acc: 0.8853 - val_f1_score: 0.8709\n",
      "Epoch 8/100\n",
      "334/334 [==============================] - ETA: 0s - loss: 0.2994 - acc: 0.8896 - f1_score: 0.8745\n",
      "Epoch 00008: val_f1_score improved from 0.87122 to 0.87457, saving model to LSTM_attention_best_model.h5\n",
      "334/334 [==============================] - 29s 88ms/step - loss: 0.2994 - acc: 0.8896 - f1_score: 0.8745 - val_loss: 0.2939 - val_acc: 0.8879 - val_f1_score: 0.8746\n",
      "Epoch 9/100\n",
      "334/334 [==============================] - ETA: 0s - loss: 0.2959 - acc: 0.8908 - f1_score: 0.8749\n",
      "Epoch 00009: val_f1_score did not improve from 0.87457\n",
      "334/334 [==============================] - 29s 87ms/step - loss: 0.2959 - acc: 0.8908 - f1_score: 0.8749 - val_loss: 0.2944 - val_acc: 0.8820 - val_f1_score: 0.8726\n",
      "Epoch 10/100\n",
      "334/334 [==============================] - ETA: 0s - loss: 0.2887 - acc: 0.8898 - f1_score: 0.8770\n",
      "Epoch 00010: val_f1_score did not improve from 0.87457\n",
      "334/334 [==============================] - 30s 89ms/step - loss: 0.2887 - acc: 0.8898 - f1_score: 0.8770 - val_loss: 0.2912 - val_acc: 0.8828 - val_f1_score: 0.8706\n",
      "Epoch 11/100\n",
      "334/334 [==============================] - ETA: 0s - loss: 0.2879 - acc: 0.8905 - f1_score: 0.8793\n",
      "Epoch 00011: val_f1_score improved from 0.87457 to 0.87612, saving model to LSTM_attention_best_model.h5\n",
      "334/334 [==============================] - 30s 89ms/step - loss: 0.2879 - acc: 0.8905 - f1_score: 0.8793 - val_loss: 0.2785 - val_acc: 0.8921 - val_f1_score: 0.8761\n",
      "Epoch 12/100\n",
      "334/334 [==============================] - ETA: 0s - loss: 0.2803 - acc: 0.8920 - f1_score: 0.8796\n",
      "Epoch 00012: val_f1_score improved from 0.87612 to 0.87749, saving model to LSTM_attention_best_model.h5\n",
      "334/334 [==============================] - 30s 91ms/step - loss: 0.2803 - acc: 0.8920 - f1_score: 0.8796 - val_loss: 0.2716 - val_acc: 0.8938 - val_f1_score: 0.8775\n",
      "Epoch 13/100\n",
      "334/334 [==============================] - ETA: 0s - loss: 0.2749 - acc: 0.8938 - f1_score: 0.8813\n",
      "Epoch 00013: val_f1_score did not improve from 0.87749\n",
      "334/334 [==============================] - 29s 87ms/step - loss: 0.2749 - acc: 0.8938 - f1_score: 0.8813 - val_loss: 0.2750 - val_acc: 0.8853 - val_f1_score: 0.8742\n",
      "Epoch 14/100\n",
      "334/334 [==============================] - ETA: 0s - loss: 0.2657 - acc: 0.8972 - f1_score: 0.8858\n",
      "Epoch 00014: val_f1_score improved from 0.87749 to 0.88657, saving model to LSTM_attention_best_model.h5\n",
      "334/334 [==============================] - 30s 91ms/step - loss: 0.2657 - acc: 0.8972 - f1_score: 0.8858 - val_loss: 0.2640 - val_acc: 0.8997 - val_f1_score: 0.8866\n",
      "Epoch 15/100\n",
      "334/334 [==============================] - ETA: 0s - loss: 0.2643 - acc: 0.8967 - f1_score: 0.8874\n",
      "Epoch 00015: val_f1_score did not improve from 0.88657\n",
      "334/334 [==============================] - 29s 87ms/step - loss: 0.2643 - acc: 0.8967 - f1_score: 0.8874 - val_loss: 0.2675 - val_acc: 0.8929 - val_f1_score: 0.8815\n",
      "Epoch 16/100\n",
      "334/334 [==============================] - ETA: 0s - loss: 0.2609 - acc: 0.8975 - f1_score: 0.8884\n",
      "Epoch 00016: val_f1_score did not improve from 0.88657\n",
      "334/334 [==============================] - 29s 87ms/step - loss: 0.2609 - acc: 0.8975 - f1_score: 0.8884 - val_loss: 0.2738 - val_acc: 0.8921 - val_f1_score: 0.8855\n",
      "Epoch 17/100\n",
      "334/334 [==============================] - ETA: 0s - loss: 0.2532 - acc: 0.9022 - f1_score: 0.8944\n",
      "Epoch 00017: val_f1_score did not improve from 0.88657\n",
      "334/334 [==============================] - 29s 87ms/step - loss: 0.2532 - acc: 0.9022 - f1_score: 0.8944 - val_loss: 0.2655 - val_acc: 0.8963 - val_f1_score: 0.8851\n",
      "Epoch 18/100\n",
      "334/334 [==============================] - ETA: 0s - loss: 0.2522 - acc: 0.9026 - f1_score: 0.8928\n",
      "Epoch 00018: val_f1_score did not improve from 0.88657\n",
      "334/334 [==============================] - 29s 86ms/step - loss: 0.2522 - acc: 0.9026 - f1_score: 0.8928 - val_loss: 0.2583 - val_acc: 0.8929 - val_f1_score: 0.8838\n",
      "Epoch 19/100\n",
      "334/334 [==============================] - ETA: 0s - loss: 0.2490 - acc: 0.9002 - f1_score: 0.8930\n",
      "Epoch 00019: val_f1_score did not improve from 0.88657\n",
      "334/334 [==============================] - 29s 87ms/step - loss: 0.2490 - acc: 0.9002 - f1_score: 0.8930 - val_loss: 0.2603 - val_acc: 0.8971 - val_f1_score: 0.8845\n",
      "Epoch 20/100\n",
      "334/334 [==============================] - ETA: 0s - loss: 0.2407 - acc: 0.9055 - f1_score: 0.8973\n",
      "Epoch 00020: val_f1_score did not improve from 0.88657\n",
      "334/334 [==============================] - 30s 89ms/step - loss: 0.2407 - acc: 0.9055 - f1_score: 0.8973 - val_loss: 0.2643 - val_acc: 0.8938 - val_f1_score: 0.8851\n",
      "Epoch 21/100\n",
      "334/334 [==============================] - ETA: 0s - loss: 0.2436 - acc: 0.9072 - f1_score: 0.8987\n",
      "Epoch 00021: val_f1_score improved from 0.88657 to 0.88985, saving model to LSTM_attention_best_model.h5\n",
      "334/334 [==============================] - 30s 91ms/step - loss: 0.2436 - acc: 0.9072 - f1_score: 0.8987 - val_loss: 0.2644 - val_acc: 0.8946 - val_f1_score: 0.8898\n",
      "Epoch 22/100\n",
      "334/334 [==============================] - ETA: 0s - loss: 0.2366 - acc: 0.9090 - f1_score: 0.9003\n",
      "Epoch 00022: val_f1_score improved from 0.88985 to 0.90333, saving model to LSTM_attention_best_model.h5\n",
      "334/334 [==============================] - 30s 89ms/step - loss: 0.2366 - acc: 0.9090 - f1_score: 0.9003 - val_loss: 0.2482 - val_acc: 0.9047 - val_f1_score: 0.9033\n",
      "Epoch 23/100\n",
      "334/334 [==============================] - ETA: 0s - loss: 0.2333 - acc: 0.9118 - f1_score: 0.9051\n",
      "Epoch 00023: val_f1_score did not improve from 0.90333\n",
      "334/334 [==============================] - 30s 89ms/step - loss: 0.2333 - acc: 0.9118 - f1_score: 0.9051 - val_loss: 0.2769 - val_acc: 0.8997 - val_f1_score: 0.8946\n",
      "Epoch 24/100\n",
      "334/334 [==============================] - ETA: 0s - loss: 0.2298 - acc: 0.9126 - f1_score: 0.9033\n",
      "Epoch 00024: val_f1_score did not improve from 0.90333\n",
      "334/334 [==============================] - 30s 90ms/step - loss: 0.2298 - acc: 0.9126 - f1_score: 0.9033 - val_loss: 0.2601 - val_acc: 0.9013 - val_f1_score: 0.8982\n",
      "Epoch 25/100\n",
      "334/334 [==============================] - ETA: 0s - loss: 0.2299 - acc: 0.9117 - f1_score: 0.9057\n",
      "Epoch 00025: val_f1_score did not improve from 0.90333\n",
      "334/334 [==============================] - 29s 86ms/step - loss: 0.2299 - acc: 0.9117 - f1_score: 0.9057 - val_loss: 0.2571 - val_acc: 0.9073 - val_f1_score: 0.8999\n",
      "Epoch 26/100\n",
      "334/334 [==============================] - ETA: 0s - loss: 0.2219 - acc: 0.9134 - f1_score: 0.9069\n",
      "Epoch 00026: val_f1_score did not improve from 0.90333\n",
      "334/334 [==============================] - 29s 86ms/step - loss: 0.2219 - acc: 0.9134 - f1_score: 0.9069 - val_loss: 0.2609 - val_acc: 0.9030 - val_f1_score: 0.8904\n",
      "Epoch 27/100\n",
      "334/334 [==============================] - ETA: 0s - loss: 0.2220 - acc: 0.9140 - f1_score: 0.9074\n",
      "Epoch 00027: val_f1_score did not improve from 0.90333\n",
      "334/334 [==============================] - 30s 89ms/step - loss: 0.2220 - acc: 0.9140 - f1_score: 0.9074 - val_loss: 0.2523 - val_acc: 0.9030 - val_f1_score: 0.8965\n",
      "Epoch 28/100\n",
      "334/334 [==============================] - ETA: 0s - loss: 0.2185 - acc: 0.9172 - f1_score: 0.9117\n",
      "Epoch 00028: val_f1_score did not improve from 0.90333\n",
      "334/334 [==============================] - 30s 89ms/step - loss: 0.2185 - acc: 0.9172 - f1_score: 0.9117 - val_loss: 0.2442 - val_acc: 0.9039 - val_f1_score: 0.8982\n",
      "Epoch 29/100\n",
      "334/334 [==============================] - ETA: 0s - loss: 0.2158 - acc: 0.9191 - f1_score: 0.9133\n",
      "Epoch 00029: val_f1_score did not improve from 0.90333\n",
      "334/334 [==============================] - 30s 89ms/step - loss: 0.2158 - acc: 0.9191 - f1_score: 0.9133 - val_loss: 0.2467 - val_acc: 0.9089 - val_f1_score: 0.9007\n",
      "Epoch 30/100\n",
      "334/334 [==============================] - ETA: 0s - loss: 0.2158 - acc: 0.9178 - f1_score: 0.9120\n",
      "Epoch 00030: val_f1_score did not improve from 0.90333\n",
      "334/334 [==============================] - 29s 87ms/step - loss: 0.2158 - acc: 0.9178 - f1_score: 0.9120 - val_loss: 0.2456 - val_acc: 0.9081 - val_f1_score: 0.8992\n",
      "Epoch 31/100\n",
      "334/334 [==============================] - ETA: 0s - loss: 0.2066 - acc: 0.9201 - f1_score: 0.9153\n",
      "Epoch 00031: val_f1_score did not improve from 0.90333\n",
      "334/334 [==============================] - 29s 87ms/step - loss: 0.2066 - acc: 0.9201 - f1_score: 0.9153 - val_loss: 0.2588 - val_acc: 0.9098 - val_f1_score: 0.8999\n",
      "Epoch 32/100\n",
      "334/334 [==============================] - ETA: 0s - loss: 0.2024 - acc: 0.9236 - f1_score: 0.9201\n",
      "Epoch 00032: val_f1_score improved from 0.90333 to 0.91275, saving model to LSTM_attention_best_model.h5\n",
      "334/334 [==============================] - 30s 91ms/step - loss: 0.2024 - acc: 0.9236 - f1_score: 0.9201 - val_loss: 0.2416 - val_acc: 0.9224 - val_f1_score: 0.9127\n",
      "Epoch 33/100\n",
      "334/334 [==============================] - ETA: 0s - loss: 0.2060 - acc: 0.9236 - f1_score: 0.9181\n",
      "Epoch 00033: val_f1_score did not improve from 0.91275\n",
      "334/334 [==============================] - 30s 89ms/step - loss: 0.2060 - acc: 0.9236 - f1_score: 0.9181 - val_loss: 0.2444 - val_acc: 0.9132 - val_f1_score: 0.9049\n",
      "Epoch 34/100\n",
      "334/334 [==============================] - ETA: 0s - loss: 0.2001 - acc: 0.9248 - f1_score: 0.9209\n",
      "Epoch 00034: val_f1_score did not improve from 0.91275\n",
      "334/334 [==============================] - 30s 89ms/step - loss: 0.2001 - acc: 0.9248 - f1_score: 0.9209 - val_loss: 0.2482 - val_acc: 0.9157 - val_f1_score: 0.9077\n",
      "Epoch 35/100\n",
      "334/334 [==============================] - ETA: 0s - loss: 0.1929 - acc: 0.9280 - f1_score: 0.9206\n",
      "Epoch 00035: val_f1_score improved from 0.91275 to 0.91515, saving model to LSTM_attention_best_model.h5\n",
      "334/334 [==============================] - 30s 90ms/step - loss: 0.1929 - acc: 0.9280 - f1_score: 0.9206 - val_loss: 0.2585 - val_acc: 0.9233 - val_f1_score: 0.9152\n",
      "Epoch 36/100\n",
      "334/334 [==============================] - ETA: 0s - loss: 0.1871 - acc: 0.9275 - f1_score: 0.9240\n",
      "Epoch 00036: val_f1_score did not improve from 0.91515\n",
      "334/334 [==============================] - 29s 87ms/step - loss: 0.1871 - acc: 0.9275 - f1_score: 0.9240 - val_loss: 0.2659 - val_acc: 0.9174 - val_f1_score: 0.9099\n",
      "Epoch 37/100\n",
      "334/334 [==============================] - ETA: 0s - loss: 0.1866 - acc: 0.9296 - f1_score: 0.9253\n",
      "Epoch 00037: val_f1_score improved from 0.91515 to 0.91633, saving model to LSTM_attention_best_model.h5\n",
      "334/334 [==============================] - 29s 88ms/step - loss: 0.1866 - acc: 0.9296 - f1_score: 0.9253 - val_loss: 0.2585 - val_acc: 0.9224 - val_f1_score: 0.9163\n",
      "Epoch 38/100\n",
      "334/334 [==============================] - ETA: 0s - loss: 0.1861 - acc: 0.9307 - f1_score: 0.9258\n",
      "Epoch 00038: val_f1_score did not improve from 0.91633\n",
      "334/334 [==============================] - 30s 89ms/step - loss: 0.1861 - acc: 0.9307 - f1_score: 0.9258 - val_loss: 0.2547 - val_acc: 0.9148 - val_f1_score: 0.9107\n",
      "Epoch 39/100\n",
      "334/334 [==============================] - ETA: 0s - loss: 0.1827 - acc: 0.9322 - f1_score: 0.9284\n",
      "Epoch 00039: val_f1_score improved from 0.91633 to 0.91845, saving model to LSTM_attention_best_model.h5\n",
      "334/334 [==============================] - 29s 88ms/step - loss: 0.1827 - acc: 0.9322 - f1_score: 0.9284 - val_loss: 0.2442 - val_acc: 0.9250 - val_f1_score: 0.9185\n",
      "Epoch 40/100\n",
      "334/334 [==============================] - ETA: 0s - loss: 0.1849 - acc: 0.9314 - f1_score: 0.9270\n",
      "Epoch 00040: val_f1_score did not improve from 0.91845\n",
      "334/334 [==============================] - 29s 86ms/step - loss: 0.1849 - acc: 0.9314 - f1_score: 0.9270 - val_loss: 0.2502 - val_acc: 0.9123 - val_f1_score: 0.9067\n",
      "Epoch 41/100\n",
      "334/334 [==============================] - ETA: 0s - loss: 0.1776 - acc: 0.9321 - f1_score: 0.9280\n",
      "Epoch 00041: val_f1_score did not improve from 0.91845\n",
      "334/334 [==============================] - 29s 86ms/step - loss: 0.1776 - acc: 0.9321 - f1_score: 0.9280 - val_loss: 0.2479 - val_acc: 0.9140 - val_f1_score: 0.9136\n",
      "Epoch 42/100\n",
      "334/334 [==============================] - ETA: 0s - loss: 0.1807 - acc: 0.9307 - f1_score: 0.9282\n",
      "Epoch 00042: val_f1_score did not improve from 0.91845\n",
      "334/334 [==============================] - 29s 87ms/step - loss: 0.1807 - acc: 0.9307 - f1_score: 0.9282 - val_loss: 0.2686 - val_acc: 0.9106 - val_f1_score: 0.9037\n",
      "Epoch 43/100\n",
      "334/334 [==============================] - ETA: 0s - loss: 0.1726 - acc: 0.9342 - f1_score: 0.9314\n",
      "Epoch 00043: val_f1_score did not improve from 0.91845\n",
      "334/334 [==============================] - 29s 86ms/step - loss: 0.1726 - acc: 0.9342 - f1_score: 0.9314 - val_loss: 0.2508 - val_acc: 0.9174 - val_f1_score: 0.9146\n",
      "Epoch 44/100\n",
      "334/334 [==============================] - ETA: 0s - loss: 0.1684 - acc: 0.9363 - f1_score: 0.9318\n",
      "Epoch 00044: val_f1_score did not improve from 0.91845\n",
      "334/334 [==============================] - 30s 89ms/step - loss: 0.1684 - acc: 0.9363 - f1_score: 0.9318 - val_loss: 0.2786 - val_acc: 0.9182 - val_f1_score: 0.9107\n",
      "Epoch 45/100\n",
      "334/334 [==============================] - ETA: 0s - loss: 0.1674 - acc: 0.9371 - f1_score: 0.9346\n",
      "Epoch 00045: val_f1_score did not improve from 0.91845\n",
      "334/334 [==============================] - 30s 89ms/step - loss: 0.1674 - acc: 0.9371 - f1_score: 0.9346 - val_loss: 0.2963 - val_acc: 0.9148 - val_f1_score: 0.9096\n",
      "Epoch 46/100\n",
      "334/334 [==============================] - ETA: 0s - loss: 0.1693 - acc: 0.9358 - f1_score: 0.9321\n",
      "Epoch 00046: val_f1_score improved from 0.91845 to 0.92091, saving model to LSTM_attention_best_model.h5\n",
      "334/334 [==============================] - 29s 88ms/step - loss: 0.1693 - acc: 0.9358 - f1_score: 0.9321 - val_loss: 0.2529 - val_acc: 0.9233 - val_f1_score: 0.9209\n",
      "Epoch 47/100\n",
      "334/334 [==============================] - ETA: 0s - loss: 0.1642 - acc: 0.9389 - f1_score: 0.9361\n",
      "Epoch 00047: val_f1_score did not improve from 0.92091\n",
      "334/334 [==============================] - 29s 87ms/step - loss: 0.1642 - acc: 0.9389 - f1_score: 0.9361 - val_loss: 0.2751 - val_acc: 0.9191 - val_f1_score: 0.9137\n",
      "Epoch 48/100\n",
      "334/334 [==============================] - ETA: 0s - loss: 0.1597 - acc: 0.9416 - f1_score: 0.9391\n",
      "Epoch 00048: val_f1_score did not improve from 0.92091\n",
      "334/334 [==============================] - 29s 86ms/step - loss: 0.1597 - acc: 0.9416 - f1_score: 0.9391 - val_loss: 0.2451 - val_acc: 0.9165 - val_f1_score: 0.9105\n",
      "Epoch 49/100\n",
      "334/334 [==============================] - ETA: 0s - loss: 0.1596 - acc: 0.9398 - f1_score: 0.9372\n",
      "Epoch 00049: val_f1_score did not improve from 0.92091\n",
      "334/334 [==============================] - 29s 87ms/step - loss: 0.1596 - acc: 0.9398 - f1_score: 0.9372 - val_loss: 0.2645 - val_acc: 0.9233 - val_f1_score: 0.9165\n",
      "Epoch 50/100\n",
      "334/334 [==============================] - ETA: 0s - loss: 0.1560 - acc: 0.9420 - f1_score: 0.9392\n",
      "Epoch 00050: val_f1_score did not improve from 0.92091\n",
      "334/334 [==============================] - 29s 87ms/step - loss: 0.1560 - acc: 0.9420 - f1_score: 0.9392 - val_loss: 0.2716 - val_acc: 0.9216 - val_f1_score: 0.9161\n",
      "Epoch 51/100\n",
      "334/334 [==============================] - ETA: 0s - loss: 0.1552 - acc: 0.9413 - f1_score: 0.9397\n",
      "Epoch 00051: val_f1_score did not improve from 0.92091\n",
      "334/334 [==============================] - 30s 88ms/step - loss: 0.1552 - acc: 0.9413 - f1_score: 0.9397 - val_loss: 0.2643 - val_acc: 0.9233 - val_f1_score: 0.9200\n",
      "Epoch 52/100\n",
      "334/334 [==============================] - ETA: 0s - loss: 0.1463 - acc: 0.9455 - f1_score: 0.9434\n",
      "Epoch 00052: val_f1_score did not improve from 0.92091\n",
      "334/334 [==============================] - 30s 89ms/step - loss: 0.1463 - acc: 0.9455 - f1_score: 0.9434 - val_loss: 0.2708 - val_acc: 0.9140 - val_f1_score: 0.9145\n",
      "Epoch 53/100\n",
      "334/334 [==============================] - ETA: 0s - loss: 0.1530 - acc: 0.9421 - f1_score: 0.9404\n",
      "Epoch 00053: val_f1_score did not improve from 0.92091\n",
      "334/334 [==============================] - 30s 89ms/step - loss: 0.1530 - acc: 0.9421 - f1_score: 0.9404 - val_loss: 0.2571 - val_acc: 0.9199 - val_f1_score: 0.9156\n",
      "Epoch 54/100\n",
      "334/334 [==============================] - ETA: 0s - loss: 0.1504 - acc: 0.9433 - f1_score: 0.9410\n",
      "Epoch 00054: val_f1_score improved from 0.92091 to 0.92226, saving model to LSTM_attention_best_model.h5\n",
      "334/334 [==============================] - 30s 91ms/step - loss: 0.1504 - acc: 0.9433 - f1_score: 0.9410 - val_loss: 0.2549 - val_acc: 0.9250 - val_f1_score: 0.9223\n",
      "Epoch 55/100\n",
      "334/334 [==============================] - ETA: 0s - loss: 0.1482 - acc: 0.9428 - f1_score: 0.9416\n",
      "Epoch 00055: val_f1_score did not improve from 0.92226\n",
      "334/334 [==============================] - 30s 89ms/step - loss: 0.1482 - acc: 0.9428 - f1_score: 0.9416 - val_loss: 0.2851 - val_acc: 0.9224 - val_f1_score: 0.9173\n",
      "Epoch 56/100\n",
      "334/334 [==============================] - ETA: 0s - loss: 0.1401 - acc: 0.9493 - f1_score: 0.9471\n",
      "Epoch 00056: val_f1_score did not improve from 0.92226\n",
      "334/334 [==============================] - 30s 89ms/step - loss: 0.1401 - acc: 0.9493 - f1_score: 0.9471 - val_loss: 0.2576 - val_acc: 0.9165 - val_f1_score: 0.9148\n",
      "Epoch 57/100\n",
      "334/334 [==============================] - ETA: 0s - loss: 0.1426 - acc: 0.9455 - f1_score: 0.9437\n",
      "Epoch 00057: val_f1_score did not improve from 0.92226\n",
      "334/334 [==============================] - 29s 87ms/step - loss: 0.1426 - acc: 0.9455 - f1_score: 0.9437 - val_loss: 0.2568 - val_acc: 0.9224 - val_f1_score: 0.9181\n",
      "Epoch 58/100\n",
      "334/334 [==============================] - ETA: 0s - loss: 0.1393 - acc: 0.9476 - f1_score: 0.9462\n",
      "Epoch 00058: val_f1_score did not improve from 0.92226\n",
      "334/334 [==============================] - 30s 89ms/step - loss: 0.1393 - acc: 0.9476 - f1_score: 0.9462 - val_loss: 0.2591 - val_acc: 0.9081 - val_f1_score: 0.9126\n",
      "Epoch 59/100\n",
      "334/334 [==============================] - ETA: 0s - loss: 0.1426 - acc: 0.9473 - f1_score: 0.9446\n",
      "Epoch 00059: val_f1_score improved from 0.92226 to 0.92810, saving model to LSTM_attention_best_model.h5\n",
      "334/334 [==============================] - 29s 88ms/step - loss: 0.1426 - acc: 0.9473 - f1_score: 0.9446 - val_loss: 0.2568 - val_acc: 0.9325 - val_f1_score: 0.9281\n",
      "Epoch 60/100\n",
      "334/334 [==============================] - ETA: 0s - loss: 0.1394 - acc: 0.9461 - f1_score: 0.9438\n",
      "Epoch 00060: val_f1_score did not improve from 0.92810\n",
      "334/334 [==============================] - 29s 87ms/step - loss: 0.1394 - acc: 0.9461 - f1_score: 0.9438 - val_loss: 0.2727 - val_acc: 0.9241 - val_f1_score: 0.9195\n",
      "Epoch 61/100\n",
      "334/334 [==============================] - ETA: 0s - loss: 0.1378 - acc: 0.9493 - f1_score: 0.9477\n",
      "Epoch 00061: val_f1_score did not improve from 0.92810\n",
      "334/334 [==============================] - 29s 87ms/step - loss: 0.1378 - acc: 0.9493 - f1_score: 0.9477 - val_loss: 0.2566 - val_acc: 0.9258 - val_f1_score: 0.9239\n",
      "Epoch 62/100\n",
      "334/334 [==============================] - ETA: 0s - loss: 0.1316 - acc: 0.9498 - f1_score: 0.9484\n",
      "Epoch 00062: val_f1_score did not improve from 0.92810\n",
      "334/334 [==============================] - 29s 87ms/step - loss: 0.1316 - acc: 0.9498 - f1_score: 0.9484 - val_loss: 0.2997 - val_acc: 0.9191 - val_f1_score: 0.9163\n",
      "Epoch 63/100\n",
      "334/334 [==============================] - ETA: 0s - loss: 0.1297 - acc: 0.9536 - f1_score: 0.9519\n",
      "Epoch 00063: val_f1_score did not improve from 0.92810\n",
      "334/334 [==============================] - 29s 87ms/step - loss: 0.1297 - acc: 0.9536 - f1_score: 0.9519 - val_loss: 0.2713 - val_acc: 0.9140 - val_f1_score: 0.9134\n",
      "Epoch 64/100\n",
      "334/334 [==============================] - ETA: 0s - loss: 0.1298 - acc: 0.9510 - f1_score: 0.9493\n",
      "Epoch 00064: val_f1_score did not improve from 0.92810\n",
      "334/334 [==============================] - 29s 87ms/step - loss: 0.1298 - acc: 0.9510 - f1_score: 0.9493 - val_loss: 0.2665 - val_acc: 0.9258 - val_f1_score: 0.9204\n",
      "Epoch 65/100\n",
      "334/334 [==============================] - ETA: 0s - loss: 0.1236 - acc: 0.9544 - f1_score: 0.9516\n",
      "Epoch 00065: val_f1_score did not improve from 0.92810\n",
      "334/334 [==============================] - 30s 89ms/step - loss: 0.1236 - acc: 0.9544 - f1_score: 0.9516 - val_loss: 0.2571 - val_acc: 0.9174 - val_f1_score: 0.9205\n",
      "Epoch 66/100\n",
      "334/334 [==============================] - ETA: 0s - loss: 0.1267 - acc: 0.9536 - f1_score: 0.9528\n",
      "Epoch 00066: val_f1_score did not improve from 0.92810\n",
      "334/334 [==============================] - 29s 87ms/step - loss: 0.1267 - acc: 0.9536 - f1_score: 0.9528 - val_loss: 0.2695 - val_acc: 0.9275 - val_f1_score: 0.9244\n",
      "Epoch 67/100\n",
      "334/334 [==============================] - ETA: 0s - loss: 0.1237 - acc: 0.9542 - f1_score: 0.9516\n",
      "Epoch 00067: val_f1_score did not improve from 0.92810\n",
      "334/334 [==============================] - 30s 89ms/step - loss: 0.1237 - acc: 0.9542 - f1_score: 0.9516 - val_loss: 0.2618 - val_acc: 0.9182 - val_f1_score: 0.9208\n",
      "Epoch 68/100\n",
      "334/334 [==============================] - ETA: 0s - loss: 0.1262 - acc: 0.9531 - f1_score: 0.9516\n",
      "Epoch 00068: val_f1_score did not improve from 0.92810\n",
      "334/334 [==============================] - 30s 90ms/step - loss: 0.1262 - acc: 0.9531 - f1_score: 0.9516 - val_loss: 0.2798 - val_acc: 0.9191 - val_f1_score: 0.9183\n",
      "Epoch 69/100\n",
      "334/334 [==============================] - ETA: 0s - loss: 0.1257 - acc: 0.9529 - f1_score: 0.9521\n",
      "Epoch 00069: val_f1_score did not improve from 0.92810\n",
      "334/334 [==============================] - 29s 87ms/step - loss: 0.1257 - acc: 0.9529 - f1_score: 0.9521 - val_loss: 0.2702 - val_acc: 0.9233 - val_f1_score: 0.9220\n",
      "Epoch 70/100\n",
      "334/334 [==============================] - ETA: 0s - loss: 0.1236 - acc: 0.9543 - f1_score: 0.9529\n",
      "Epoch 00070: val_f1_score did not improve from 0.92810\n",
      "334/334 [==============================] - 30s 90ms/step - loss: 0.1236 - acc: 0.9543 - f1_score: 0.9529 - val_loss: 0.2560 - val_acc: 0.9216 - val_f1_score: 0.9195\n",
      "Epoch 71/100\n",
      "334/334 [==============================] - ETA: 0s - loss: 0.1205 - acc: 0.9574 - f1_score: 0.9558\n",
      "Epoch 00071: val_f1_score improved from 0.92810 to 0.92842, saving model to LSTM_attention_best_model.h5\n",
      "334/334 [==============================] - 30s 91ms/step - loss: 0.1205 - acc: 0.9574 - f1_score: 0.9558 - val_loss: 0.2812 - val_acc: 0.9351 - val_f1_score: 0.9284\n",
      "Epoch 72/100\n",
      "334/334 [==============================] - ETA: 0s - loss: 0.1187 - acc: 0.9567 - f1_score: 0.9560\n",
      "Epoch 00072: val_f1_score did not improve from 0.92842\n",
      "334/334 [==============================] - 29s 88ms/step - loss: 0.1187 - acc: 0.9567 - f1_score: 0.9560 - val_loss: 0.2588 - val_acc: 0.9216 - val_f1_score: 0.9227\n",
      "Epoch 73/100\n",
      "334/334 [==============================] - ETA: 0s - loss: 0.1150 - acc: 0.9575 - f1_score: 0.9559\n",
      "Epoch 00073: val_f1_score did not improve from 0.92842\n",
      "334/334 [==============================] - 29s 87ms/step - loss: 0.1150 - acc: 0.9575 - f1_score: 0.9559 - val_loss: 0.2716 - val_acc: 0.9258 - val_f1_score: 0.9225\n",
      "Epoch 74/100\n",
      "334/334 [==============================] - ETA: 0s - loss: 0.1184 - acc: 0.9564 - f1_score: 0.9551\n",
      "Epoch 00074: val_f1_score did not improve from 0.92842\n",
      "334/334 [==============================] - 29s 88ms/step - loss: 0.1184 - acc: 0.9564 - f1_score: 0.9551 - val_loss: 0.3191 - val_acc: 0.9250 - val_f1_score: 0.9146\n",
      "Epoch 75/100\n",
      "334/334 [==============================] - ETA: 0s - loss: 0.1113 - acc: 0.9589 - f1_score: 0.9576\n",
      "Epoch 00075: val_f1_score did not improve from 0.92842\n",
      "334/334 [==============================] - 30s 90ms/step - loss: 0.1113 - acc: 0.9589 - f1_score: 0.9576 - val_loss: 0.2819 - val_acc: 0.9258 - val_f1_score: 0.9211\n",
      "Epoch 76/100\n",
      "334/334 [==============================] - ETA: 0s - loss: 0.1146 - acc: 0.9597 - f1_score: 0.9584\n",
      "Epoch 00076: val_f1_score did not improve from 0.92842\n",
      "334/334 [==============================] - 29s 87ms/step - loss: 0.1146 - acc: 0.9597 - f1_score: 0.9584 - val_loss: 0.2984 - val_acc: 0.9165 - val_f1_score: 0.9161\n",
      "Epoch 77/100\n",
      "334/334 [==============================] - ETA: 0s - loss: 0.1153 - acc: 0.9568 - f1_score: 0.9556\n",
      "Epoch 00077: val_f1_score improved from 0.92842 to 0.93194, saving model to LSTM_attention_best_model.h5\n",
      "334/334 [==============================] - 31s 92ms/step - loss: 0.1153 - acc: 0.9568 - f1_score: 0.9556 - val_loss: 0.2585 - val_acc: 0.9309 - val_f1_score: 0.9319\n",
      "Epoch 78/100\n",
      "334/334 [==============================] - ETA: 0s - loss: 0.1116 - acc: 0.9613 - f1_score: 0.9604\n",
      "Epoch 00078: val_f1_score did not improve from 0.93194\n",
      "334/334 [==============================] - 29s 87ms/step - loss: 0.1116 - acc: 0.9613 - f1_score: 0.9604 - val_loss: 0.3092 - val_acc: 0.9283 - val_f1_score: 0.9294\n",
      "Epoch 79/100\n",
      "334/334 [==============================] - ETA: 0s - loss: 0.1140 - acc: 0.9582 - f1_score: 0.9565\n",
      "Epoch 00079: val_f1_score did not improve from 0.93194\n",
      "334/334 [==============================] - 29s 87ms/step - loss: 0.1140 - acc: 0.9582 - f1_score: 0.9565 - val_loss: 0.2661 - val_acc: 0.9309 - val_f1_score: 0.9297\n",
      "Epoch 80/100\n",
      "334/334 [==============================] - ETA: 0s - loss: 0.1089 - acc: 0.9599 - f1_score: 0.9588\n",
      "Epoch 00080: val_f1_score did not improve from 0.93194\n",
      "334/334 [==============================] - 29s 88ms/step - loss: 0.1089 - acc: 0.9599 - f1_score: 0.9588 - val_loss: 0.3029 - val_acc: 0.9216 - val_f1_score: 0.9200\n",
      "Epoch 81/100\n",
      "334/334 [==============================] - ETA: 0s - loss: 0.1035 - acc: 0.9632 - f1_score: 0.9621\n",
      "Epoch 00081: val_f1_score did not improve from 0.93194\n",
      "334/334 [==============================] - 29s 88ms/step - loss: 0.1035 - acc: 0.9632 - f1_score: 0.9621 - val_loss: 0.3010 - val_acc: 0.9224 - val_f1_score: 0.9189\n",
      "Epoch 82/100\n",
      "334/334 [==============================] - ETA: 0s - loss: 0.1065 - acc: 0.9616 - f1_score: 0.9607\n",
      "Epoch 00082: val_f1_score did not improve from 0.93194\n",
      "334/334 [==============================] - 29s 88ms/step - loss: 0.1065 - acc: 0.9616 - f1_score: 0.9607 - val_loss: 0.3016 - val_acc: 0.9283 - val_f1_score: 0.9241\n"
     ]
    }
   ],
   "source": [
    "model = tf.keras.models.Sequential([\n",
    "          tf.keras.layers.Embedding(word_embeddings.shape[0], EMBEDDING_DIM, embeddings_initializer=tf.constant_initializer(word_embeddings),\n",
    "                                    input_length = INPUT_DIM, trainable=False),\n",
    "          tf.keras.layers.Bidirectional(tf.keras.layers.LSTM(128, return_sequences=True, dropout=0.2)), \n",
    "          SeqSelfAttention(attention_activation='softmax'), \n",
    "          tf.keras.layers.Flatten(),        \n",
    "          tf.keras.layers.Dense(4, activation='softmax')\n",
    "          ])\n",
    "\n",
    "name = \"LSTM_attention\"\n",
    "model, history = train_model(model, epochs=100, lr=0.0001, name=name)"
   ]
  },
  {
   "cell_type": "code",
   "execution_count": null,
   "metadata": {
    "colab": {
     "base_uri": "https://localhost:8080/",
     "height": 513
    },
    "id": "fSJkih8deTka",
    "outputId": "7a6b8387-d892-40db-e0bf-56e46380d86a"
   },
   "outputs": [
    {
     "data": {
      "image/png": "[encoded data removed]",
      "text/plain": [
       "<Figure size 432x288 with 1 Axes>"
      ]
     },
     "metadata": {
      "needs_background": "light"
     },
     "output_type": "display_data"
    },
    {
     "data": {
      "image/png": "[encoded data removed]",
      "text/plain": [
       "<Figure size 432x288 with 1 Axes>"
      ]
     },
     "metadata": {
      "needs_background": "light"
     },
     "output_type": "display_data"
    }
   ],
   "source": [
    "plot_results(range(1,len(history.history['acc'])+1), 'acc', history)\n",
    "plot_results(range(1,len(history.history['f1_score'])+1), 'f1_score', history)"
   ]
  },
  {
   "cell_type": "markdown",
   "metadata": {},
   "source": [
    "**Model 5 - Bidirectional LSTM with keras attention layer and embedding layer to be trainable**"
   ]
  },
  {
   "cell_type": "code",
   "execution_count": null,
   "metadata": {
    "id": "J_tRRvxA-lcg"
   },
   "outputs": [],
   "source": [
    "model = tf.keras.models.Sequential([\n",
    "          tf.keras.layers.Embedding(word_embeddings.shape[0], EMBEDDING_DIM, embeddings_initializer=tf.constant_initializer(word_embeddings),\n",
    "                                    input_length = INPUT_DIM, trainable=True),\n",
    "          tf.keras.layers.Bidirectional(tf.keras.layers.LSTM(128, return_sequences=True, dropout=0.2)), \n",
    "          SeqSelfAttention(attention_activation='softmax'), \n",
    "          tf.keras.layers.Flatten(),        \n",
    "          tf.keras.layers.Dense(4, activation='softmax')\n",
    "          ])\n",
    "\n",
    "name = \"LSTM_attention\"\n",
    "model, history = train_model(model, epochs=100, lr=0.0001, name=name)"
   ]
  },
  {
   "cell_type": "code",
   "execution_count": null,
   "metadata": {
    "colab": {
     "base_uri": "https://localhost:8080/",
     "height": 516
    },
    "id": "8shMrSxiPj0N",
    "outputId": "b130f1de-ff96-4414-8ae5-69b82383d6e5"
   },
   "outputs": [
    {
     "data": {
      "image/png": "[encoded data removed]",
      "text/plain": [
       "<Figure size 432x288 with 1 Axes>"
      ]
     },
     "metadata": {
      "needs_background": "light"
     },
     "output_type": "display_data"
    },
    {
     "data": {
      "image/png": "[encoded data removed]",
      "text/plain": [
       "<Figure size 432x288 with 1 Axes>"
      ]
     },
     "metadata": {
      "needs_background": "light"
     },
     "output_type": "display_data"
    }
   ],
   "source": [
    "plot_results(range(1,len(history.history['acc'])+1), 'acc', history)\n",
    "plot_results(range(1,len(history.history['f1_score'])+1), 'f1_score', history)"
   ]
  },
  {
   "cell_type": "markdown",
   "metadata": {
    "id": "4WDvdpWjj2r_"
   },
   "source": [
    "**Model 5 - Embedding with CNN**"
   ]
  },
  {
   "cell_type": "code",
   "execution_count": null,
   "metadata": {
    "colab": {
     "base_uri": "https://localhost:8080/"
    },
    "id": "ImLA_Aw_qs38",
    "outputId": "5a42019d-0361-4ffd-e4dc-dd3e14df3f6c"
   },
   "outputs": [
    {
     "name": "stdout",
     "output_type": "stream",
     "text": [
      "Epoch 1/100\n",
      "333/334 [============================>.] - ETA: 0s - loss: 0.7559 - acc: 0.7816 - f1_score: 0.5757\n",
      "Epoch 00001: val_f1_score improved from -inf to 0.78670, saving model to CNN_best_model.h5\n",
      "334/334 [==============================] - 17s 51ms/step - loss: 0.7553 - acc: 0.7818 - f1_score: 0.5764 - val_loss: 0.4729 - val_acc: 0.8415 - val_f1_score: 0.7867\n",
      "Epoch 2/100\n",
      "333/334 [============================>.] - ETA: 0s - loss: 0.4203 - acc: 0.8565 - f1_score: 0.8153\n",
      "Epoch 00002: val_f1_score improved from 0.78670 to 0.85003, saving model to CNN_best_model.h5\n",
      "334/334 [==============================] - 17s 50ms/step - loss: 0.4201 - acc: 0.8565 - f1_score: 0.8154 - val_loss: 0.3952 - val_acc: 0.8752 - val_f1_score: 0.8500\n",
      "Epoch 3/100\n",
      "334/334 [==============================] - ETA: 0s - loss: 0.3551 - acc: 0.8786 - f1_score: 0.8520\n",
      "Epoch 00003: val_f1_score improved from 0.85003 to 0.86400, saving model to CNN_best_model.h5\n",
      "334/334 [==============================] - 17s 52ms/step - loss: 0.3551 - acc: 0.8786 - f1_score: 0.8520 - val_loss: 0.3474 - val_acc: 0.8803 - val_f1_score: 0.8640\n",
      "Epoch 4/100\n",
      "333/334 [============================>.] - ETA: 0s - loss: 0.3074 - acc: 0.8909 - f1_score: 0.8700\n",
      "Epoch 00004: val_f1_score improved from 0.86400 to 0.87099, saving model to CNN_best_model.h5\n",
      "334/334 [==============================] - 17s 50ms/step - loss: 0.3073 - acc: 0.8909 - f1_score: 0.8698 - val_loss: 0.3107 - val_acc: 0.8845 - val_f1_score: 0.8710\n",
      "Epoch 5/100\n",
      "334/334 [==============================] - ETA: 0s - loss: 0.2687 - acc: 0.8998 - f1_score: 0.8818\n",
      "Epoch 00005: val_f1_score improved from 0.87099 to 0.87607, saving model to CNN_best_model.h5\n",
      "334/334 [==============================] - 17s 50ms/step - loss: 0.2687 - acc: 0.8998 - f1_score: 0.8818 - val_loss: 0.2820 - val_acc: 0.8929 - val_f1_score: 0.8761\n",
      "Epoch 6/100\n",
      "334/334 [==============================] - ETA: 0s - loss: 0.2362 - acc: 0.9141 - f1_score: 0.8982\n",
      "Epoch 00006: val_f1_score improved from 0.87607 to 0.88523, saving model to CNN_best_model.h5\n",
      "334/334 [==============================] - 17s 50ms/step - loss: 0.2362 - acc: 0.9141 - f1_score: 0.8982 - val_loss: 0.2619 - val_acc: 0.9022 - val_f1_score: 0.8852\n",
      "Epoch 7/100\n",
      "333/334 [============================>.] - ETA: 0s - loss: 0.2138 - acc: 0.9234 - f1_score: 0.9095\n",
      "Epoch 00007: val_f1_score improved from 0.88523 to 0.89435, saving model to CNN_best_model.h5\n",
      "334/334 [==============================] - 17s 50ms/step - loss: 0.2137 - acc: 0.9234 - f1_score: 0.9096 - val_loss: 0.2467 - val_acc: 0.9098 - val_f1_score: 0.8943\n",
      "Epoch 8/100\n",
      "333/334 [============================>.] - ETA: 0s - loss: 0.1919 - acc: 0.9359 - f1_score: 0.9251\n",
      "Epoch 00008: val_f1_score improved from 0.89435 to 0.90390, saving model to CNN_best_model.h5\n",
      "334/334 [==============================] - 17s 50ms/step - loss: 0.1917 - acc: 0.9360 - f1_score: 0.9253 - val_loss: 0.2359 - val_acc: 0.9165 - val_f1_score: 0.9039\n",
      "Epoch 9/100\n",
      "333/334 [============================>.] - ETA: 0s - loss: 0.1723 - acc: 0.9431 - f1_score: 0.9332\n",
      "Epoch 00009: val_f1_score improved from 0.90390 to 0.90973, saving model to CNN_best_model.h5\n",
      "334/334 [==============================] - 17s 50ms/step - loss: 0.1725 - acc: 0.9429 - f1_score: 0.9328 - val_loss: 0.2295 - val_acc: 0.9233 - val_f1_score: 0.9097\n",
      "Epoch 10/100\n",
      "333/334 [============================>.] - ETA: 0s - loss: 0.1602 - acc: 0.9493 - f1_score: 0.9399\n",
      "Epoch 00010: val_f1_score improved from 0.90973 to 0.91362, saving model to CNN_best_model.h5\n",
      "334/334 [==============================] - 17s 50ms/step - loss: 0.1601 - acc: 0.9494 - f1_score: 0.9400 - val_loss: 0.2247 - val_acc: 0.9224 - val_f1_score: 0.9136\n",
      "Epoch 11/100\n",
      "334/334 [==============================] - ETA: 0s - loss: 0.1455 - acc: 0.9557 - f1_score: 0.9475\n",
      "Epoch 00011: val_f1_score improved from 0.91362 to 0.91740, saving model to CNN_best_model.h5\n",
      "334/334 [==============================] - 17s 50ms/step - loss: 0.1455 - acc: 0.9557 - f1_score: 0.9475 - val_loss: 0.2179 - val_acc: 0.9258 - val_f1_score: 0.9174\n",
      "Epoch 12/100\n",
      "334/334 [==============================] - ETA: 0s - loss: 0.1357 - acc: 0.9584 - f1_score: 0.9505\n",
      "Epoch 00012: val_f1_score improved from 0.91740 to 0.92119, saving model to CNN_best_model.h5\n",
      "334/334 [==============================] - 17s 50ms/step - loss: 0.1357 - acc: 0.9584 - f1_score: 0.9505 - val_loss: 0.2128 - val_acc: 0.9300 - val_f1_score: 0.9212\n",
      "Epoch 13/100\n",
      "334/334 [==============================] - ETA: 0s - loss: 0.1244 - acc: 0.9624 - f1_score: 0.9561\n",
      "Epoch 00013: val_f1_score improved from 0.92119 to 0.92370, saving model to CNN_best_model.h5\n",
      "334/334 [==============================] - 16s 49ms/step - loss: 0.1244 - acc: 0.9624 - f1_score: 0.9561 - val_loss: 0.2112 - val_acc: 0.9275 - val_f1_score: 0.9237\n",
      "Epoch 14/100\n",
      "333/334 [============================>.] - ETA: 0s - loss: 0.1134 - acc: 0.9662 - f1_score: 0.9619\n",
      "Epoch 00014: val_f1_score improved from 0.92370 to 0.92837, saving model to CNN_best_model.h5\n",
      "334/334 [==============================] - 16s 49ms/step - loss: 0.1136 - acc: 0.9661 - f1_score: 0.9616 - val_loss: 0.2062 - val_acc: 0.9325 - val_f1_score: 0.9284\n",
      "Epoch 15/100\n",
      "334/334 [==============================] - ETA: 0s - loss: 0.1059 - acc: 0.9683 - f1_score: 0.9649\n",
      "Epoch 00015: val_f1_score did not improve from 0.92837\n",
      "334/334 [==============================] - 16s 49ms/step - loss: 0.1059 - acc: 0.9683 - f1_score: 0.9649 - val_loss: 0.2086 - val_acc: 0.9300 - val_f1_score: 0.9273\n",
      "Epoch 16/100\n",
      "334/334 [==============================] - ETA: 0s - loss: 0.0968 - acc: 0.9710 - f1_score: 0.9671\n",
      "Epoch 00016: val_f1_score improved from 0.92837 to 0.92906, saving model to CNN_best_model.h5\n",
      "334/334 [==============================] - 17s 50ms/step - loss: 0.0968 - acc: 0.9710 - f1_score: 0.9671 - val_loss: 0.2039 - val_acc: 0.9309 - val_f1_score: 0.9291\n",
      "Epoch 17/100\n",
      "333/334 [============================>.] - ETA: 0s - loss: 0.0898 - acc: 0.9739 - f1_score: 0.9701\n",
      "Epoch 00017: val_f1_score did not improve from 0.92906\n",
      "334/334 [==============================] - 16s 47ms/step - loss: 0.0899 - acc: 0.9739 - f1_score: 0.9701 - val_loss: 0.2043 - val_acc: 0.9300 - val_f1_score: 0.9276\n",
      "Epoch 18/100\n",
      "333/334 [============================>.] - ETA: 0s - loss: 0.0824 - acc: 0.9769 - f1_score: 0.9736\n",
      "Epoch 00018: val_f1_score improved from 0.92906 to 0.93195, saving model to CNN_best_model.h5\n",
      "334/334 [==============================] - 16s 49ms/step - loss: 0.0824 - acc: 0.9769 - f1_score: 0.9737 - val_loss: 0.2045 - val_acc: 0.9334 - val_f1_score: 0.9319\n",
      "Epoch 19/100\n",
      "333/334 [============================>.] - ETA: 0s - loss: 0.0761 - acc: 0.9785 - f1_score: 0.9756\n",
      "Epoch 00019: val_f1_score did not improve from 0.93195\n",
      "334/334 [==============================] - 16s 48ms/step - loss: 0.0763 - acc: 0.9784 - f1_score: 0.9752 - val_loss: 0.2030 - val_acc: 0.9334 - val_f1_score: 0.9310\n",
      "Epoch 20/100\n",
      "334/334 [==============================] - ETA: 0s - loss: 0.0707 - acc: 0.9811 - f1_score: 0.9784\n",
      "Epoch 00020: val_f1_score did not improve from 0.93195\n",
      "334/334 [==============================] - 16s 48ms/step - loss: 0.0707 - acc: 0.9811 - f1_score: 0.9784 - val_loss: 0.2058 - val_acc: 0.9342 - val_f1_score: 0.9305\n",
      "Epoch 21/100\n",
      "334/334 [==============================] - ETA: 0s - loss: 0.0650 - acc: 0.9828 - f1_score: 0.9800\n",
      "Epoch 00021: val_f1_score did not improve from 0.93195\n",
      "334/334 [==============================] - 16s 48ms/step - loss: 0.0650 - acc: 0.9828 - f1_score: 0.9800 - val_loss: 0.2069 - val_acc: 0.9309 - val_f1_score: 0.9310\n",
      "Epoch 22/100\n",
      "334/334 [==============================] - ETA: 0s - loss: 0.0587 - acc: 0.9852 - f1_score: 0.9829\n",
      "Epoch 00022: val_f1_score improved from 0.93195 to 0.93216, saving model to CNN_best_model.h5\n",
      "334/334 [==============================] - 17s 50ms/step - loss: 0.0587 - acc: 0.9852 - f1_score: 0.9829 - val_loss: 0.2078 - val_acc: 0.9351 - val_f1_score: 0.9322\n",
      "Epoch 23/100\n",
      "334/334 [==============================] - ETA: 0s - loss: 0.0564 - acc: 0.9857 - f1_score: 0.9835\n",
      "Epoch 00023: val_f1_score did not improve from 0.93216\n",
      "334/334 [==============================] - 16s 47ms/step - loss: 0.0564 - acc: 0.9857 - f1_score: 0.9835 - val_loss: 0.2095 - val_acc: 0.9359 - val_f1_score: 0.9286\n",
      "Epoch 24/100\n",
      "334/334 [==============================] - ETA: 0s - loss: 0.0516 - acc: 0.9872 - f1_score: 0.9855\n",
      "Epoch 00024: val_f1_score did not improve from 0.93216\n",
      "334/334 [==============================] - 16s 48ms/step - loss: 0.0516 - acc: 0.9872 - f1_score: 0.9855 - val_loss: 0.2093 - val_acc: 0.9351 - val_f1_score: 0.9281\n",
      "Epoch 25/100\n",
      "334/334 [==============================] - ETA: 0s - loss: 0.0479 - acc: 0.9880 - f1_score: 0.9871\n",
      "Epoch 00025: val_f1_score did not improve from 0.93216\n",
      "334/334 [==============================] - 16s 47ms/step - loss: 0.0479 - acc: 0.9880 - f1_score: 0.9871 - val_loss: 0.2126 - val_acc: 0.9351 - val_f1_score: 0.9296\n",
      "Epoch 26/100\n",
      "334/334 [==============================] - ETA: 0s - loss: 0.0446 - acc: 0.9888 - f1_score: 0.9873\n",
      "Epoch 00026: val_f1_score did not improve from 0.93216\n",
      "334/334 [==============================] - 16s 47ms/step - loss: 0.0446 - acc: 0.9888 - f1_score: 0.9873 - val_loss: 0.2135 - val_acc: 0.9334 - val_f1_score: 0.9319\n",
      "Epoch 27/100\n",
      "334/334 [==============================] - ETA: 0s - loss: 0.0421 - acc: 0.9895 - f1_score: 0.9885\n",
      "Epoch 00027: val_f1_score improved from 0.93216 to 0.93271, saving model to CNN_best_model.h5\n",
      "334/334 [==============================] - 17s 51ms/step - loss: 0.0421 - acc: 0.9895 - f1_score: 0.9885 - val_loss: 0.2166 - val_acc: 0.9325 - val_f1_score: 0.9327\n",
      "Epoch 28/100\n",
      "333/334 [============================>.] - ETA: 0s - loss: 0.0378 - acc: 0.9904 - f1_score: 0.9894\n",
      "Epoch 00028: val_f1_score did not improve from 0.93271\n",
      "334/334 [==============================] - 16s 48ms/step - loss: 0.0378 - acc: 0.9904 - f1_score: 0.9894 - val_loss: 0.2193 - val_acc: 0.9351 - val_f1_score: 0.9291\n",
      "Epoch 29/100\n",
      "334/334 [==============================] - ETA: 0s - loss: 0.0351 - acc: 0.9914 - f1_score: 0.9907\n",
      "Epoch 00029: val_f1_score did not improve from 0.93271\n",
      "334/334 [==============================] - 16s 48ms/step - loss: 0.0351 - acc: 0.9914 - f1_score: 0.9907 - val_loss: 0.2209 - val_acc: 0.9325 - val_f1_score: 0.9288\n",
      "Epoch 30/100\n",
      "334/334 [==============================] - ETA: 0s - loss: 0.0341 - acc: 0.9920 - f1_score: 0.9915\n",
      "Epoch 00030: val_f1_score improved from 0.93271 to 0.93303, saving model to CNN_best_model.h5\n",
      "334/334 [==============================] - 17s 50ms/step - loss: 0.0341 - acc: 0.9920 - f1_score: 0.9915 - val_loss: 0.2218 - val_acc: 0.9342 - val_f1_score: 0.9330\n",
      "Epoch 31/100\n",
      "334/334 [==============================] - ETA: 0s - loss: 0.0311 - acc: 0.9925 - f1_score: 0.9924\n",
      "Epoch 00031: val_f1_score improved from 0.93303 to 0.93441, saving model to CNN_best_model.h5\n",
      "334/334 [==============================] - 17s 50ms/step - loss: 0.0311 - acc: 0.9925 - f1_score: 0.9924 - val_loss: 0.2351 - val_acc: 0.9368 - val_f1_score: 0.9344\n",
      "Epoch 32/100\n",
      "333/334 [============================>.] - ETA: 0s - loss: 0.0292 - acc: 0.9931 - f1_score: 0.9928\n",
      "Epoch 00032: val_f1_score did not improve from 0.93441\n",
      "334/334 [==============================] - 16s 48ms/step - loss: 0.0291 - acc: 0.9932 - f1_score: 0.9928 - val_loss: 0.2299 - val_acc: 0.9342 - val_f1_score: 0.9315\n",
      "Epoch 33/100\n",
      "334/334 [==============================] - ETA: 0s - loss: 0.0271 - acc: 0.9938 - f1_score: 0.9930\n",
      "Epoch 00033: val_f1_score did not improve from 0.93441\n",
      "334/334 [==============================] - 16s 48ms/step - loss: 0.0271 - acc: 0.9938 - f1_score: 0.9930 - val_loss: 0.2322 - val_acc: 0.9351 - val_f1_score: 0.9321\n",
      "Epoch 34/100\n",
      "334/334 [==============================] - ETA: 0s - loss: 0.0255 - acc: 0.9938 - f1_score: 0.9935\n",
      "Epoch 00034: val_f1_score did not improve from 0.93441\n",
      "334/334 [==============================] - 16s 48ms/step - loss: 0.0255 - acc: 0.9938 - f1_score: 0.9935 - val_loss: 0.2345 - val_acc: 0.9351 - val_f1_score: 0.9340\n",
      "Epoch 35/100\n",
      "334/334 [==============================] - ETA: 0s - loss: 0.0226 - acc: 0.9949 - f1_score: 0.9944\n",
      "Epoch 00035: val_f1_score did not improve from 0.93441\n",
      "334/334 [==============================] - 16s 49ms/step - loss: 0.0226 - acc: 0.9949 - f1_score: 0.9944 - val_loss: 0.2399 - val_acc: 0.9359 - val_f1_score: 0.9310\n",
      "Epoch 36/100\n",
      "334/334 [==============================] - ETA: 0s - loss: 0.0226 - acc: 0.9950 - f1_score: 0.9946\n",
      "Epoch 00036: val_f1_score did not improve from 0.93441\n",
      "334/334 [==============================] - 16s 48ms/step - loss: 0.0226 - acc: 0.9950 - f1_score: 0.9946 - val_loss: 0.2341 - val_acc: 0.9342 - val_f1_score: 0.9320\n",
      "Epoch 37/100\n",
      "334/334 [==============================] - ETA: 0s - loss: 0.0203 - acc: 0.9958 - f1_score: 0.9954\n",
      "Epoch 00037: val_f1_score did not improve from 0.93441\n",
      "334/334 [==============================] - 16s 47ms/step - loss: 0.0203 - acc: 0.9958 - f1_score: 0.9954 - val_loss: 0.2473 - val_acc: 0.9334 - val_f1_score: 0.9302\n",
      "Epoch 38/100\n",
      "333/334 [============================>.] - ETA: 0s - loss: 0.0201 - acc: 0.9954 - f1_score: 0.9947\n",
      "Epoch 00038: val_f1_score improved from 0.93441 to 0.93485, saving model to CNN_best_model.h5\n",
      "334/334 [==============================] - 17s 50ms/step - loss: 0.0201 - acc: 0.9954 - f1_score: 0.9947 - val_loss: 0.2420 - val_acc: 0.9376 - val_f1_score: 0.9349\n",
      "Epoch 39/100\n",
      "334/334 [==============================] - ETA: 0s - loss: 0.0185 - acc: 0.9961 - f1_score: 0.9959\n",
      "Epoch 00039: val_f1_score did not improve from 0.93485\n",
      "334/334 [==============================] - 16s 48ms/step - loss: 0.0185 - acc: 0.9961 - f1_score: 0.9959 - val_loss: 0.2488 - val_acc: 0.9342 - val_f1_score: 0.9319\n",
      "Epoch 40/100\n",
      "334/334 [==============================] - ETA: 0s - loss: 0.0169 - acc: 0.9963 - f1_score: 0.9960\n",
      "Epoch 00040: val_f1_score did not improve from 0.93485\n",
      "334/334 [==============================] - 16s 48ms/step - loss: 0.0169 - acc: 0.9963 - f1_score: 0.9960 - val_loss: 0.2520 - val_acc: 0.9351 - val_f1_score: 0.9323\n",
      "Epoch 41/100\n",
      "333/334 [============================>.] - ETA: 0s - loss: 0.0156 - acc: 0.9964 - f1_score: 0.9960\n",
      "Epoch 00041: val_f1_score did not improve from 0.93485\n",
      "334/334 [==============================] - 16s 49ms/step - loss: 0.0160 - acc: 0.9963 - f1_score: 0.9958 - val_loss: 0.2559 - val_acc: 0.9342 - val_f1_score: 0.9318\n",
      "Epoch 42/100\n",
      "334/334 [==============================] - ETA: 0s - loss: 0.0165 - acc: 0.9963 - f1_score: 0.9961\n",
      "Epoch 00042: val_f1_score did not improve from 0.93485\n",
      "334/334 [==============================] - 16s 48ms/step - loss: 0.0165 - acc: 0.9963 - f1_score: 0.9961 - val_loss: 0.2531 - val_acc: 0.9342 - val_f1_score: 0.9308\n",
      "Epoch 43/100\n",
      "333/334 [============================>.] - ETA: 0s - loss: 0.0148 - acc: 0.9962 - f1_score: 0.9960\n",
      "Epoch 00043: val_f1_score improved from 0.93485 to 0.93543, saving model to CNN_best_model.h5\n",
      "334/334 [==============================] - 17s 50ms/step - loss: 0.0148 - acc: 0.9962 - f1_score: 0.9960 - val_loss: 0.2599 - val_acc: 0.9376 - val_f1_score: 0.9354\n",
      "Epoch 44/100\n",
      "333/334 [============================>.] - ETA: 0s - loss: 0.0146 - acc: 0.9965 - f1_score: 0.9965\n",
      "Epoch 00044: val_f1_score did not improve from 0.93543\n",
      "334/334 [==============================] - 16s 49ms/step - loss: 0.0146 - acc: 0.9965 - f1_score: 0.9965 - val_loss: 0.2614 - val_acc: 0.9342 - val_f1_score: 0.9318\n",
      "Epoch 45/100\n",
      "334/334 [==============================] - ETA: 0s - loss: 0.0135 - acc: 0.9970 - f1_score: 0.9969\n",
      "Epoch 00045: val_f1_score did not improve from 0.93543\n",
      "334/334 [==============================] - 16s 49ms/step - loss: 0.0135 - acc: 0.9970 - f1_score: 0.9969 - val_loss: 0.2741 - val_acc: 0.9359 - val_f1_score: 0.9347\n",
      "Epoch 46/100\n",
      "333/334 [============================>.] - ETA: 0s - loss: 0.0127 - acc: 0.9970 - f1_score: 0.9968\n",
      "Epoch 00046: val_f1_score improved from 0.93543 to 0.93703, saving model to CNN_best_model.h5\n",
      "334/334 [==============================] - 17s 52ms/step - loss: 0.0127 - acc: 0.9970 - f1_score: 0.9968 - val_loss: 0.2663 - val_acc: 0.9376 - val_f1_score: 0.9370\n",
      "Epoch 47/100\n",
      "333/334 [============================>.] - ETA: 0s - loss: 0.0122 - acc: 0.9975 - f1_score: 0.9972\n",
      "Epoch 00047: val_f1_score did not improve from 0.93703\n",
      "334/334 [==============================] - 16s 48ms/step - loss: 0.0122 - acc: 0.9975 - f1_score: 0.9972 - val_loss: 0.2703 - val_acc: 0.9359 - val_f1_score: 0.9351\n",
      "Epoch 48/100\n",
      "334/334 [==============================] - ETA: 0s - loss: 0.0121 - acc: 0.9975 - f1_score: 0.9973\n",
      "Epoch 00048: val_f1_score did not improve from 0.93703\n",
      "334/334 [==============================] - 16s 49ms/step - loss: 0.0121 - acc: 0.9975 - f1_score: 0.9973 - val_loss: 0.2873 - val_acc: 0.9368 - val_f1_score: 0.9336\n",
      "Epoch 49/100\n",
      "333/334 [============================>.] - ETA: 0s - loss: 0.0115 - acc: 0.9973 - f1_score: 0.9972\n",
      "Epoch 00049: val_f1_score did not improve from 0.93703\n",
      "334/334 [==============================] - 17s 49ms/step - loss: 0.0115 - acc: 0.9973 - f1_score: 0.9972 - val_loss: 0.2777 - val_acc: 0.9359 - val_f1_score: 0.9341\n",
      "Epoch 50/100\n",
      "333/334 [============================>.] - ETA: 0s - loss: 0.0111 - acc: 0.9974 - f1_score: 0.9973\n",
      "Epoch 00050: val_f1_score did not improve from 0.93703\n",
      "334/334 [==============================] - 16s 49ms/step - loss: 0.0110 - acc: 0.9974 - f1_score: 0.9973 - val_loss: 0.2797 - val_acc: 0.9368 - val_f1_score: 0.9347\n",
      "Epoch 51/100\n",
      "334/334 [==============================] - ETA: 0s - loss: 0.0116 - acc: 0.9969 - f1_score: 0.9968\n",
      "Epoch 00051: val_f1_score did not improve from 0.93703\n",
      "334/334 [==============================] - 16s 49ms/step - loss: 0.0116 - acc: 0.9969 - f1_score: 0.9968 - val_loss: 0.2798 - val_acc: 0.9376 - val_f1_score: 0.9351\n",
      "Epoch 52/100\n",
      "333/334 [============================>.] - ETA: 0s - loss: 0.0102 - acc: 0.9977 - f1_score: 0.9977\n",
      "Epoch 00052: val_f1_score did not improve from 0.93703\n",
      "334/334 [==============================] - 17s 50ms/step - loss: 0.0101 - acc: 0.9978 - f1_score: 0.9977 - val_loss: 0.2847 - val_acc: 0.9376 - val_f1_score: 0.9353\n",
      "Epoch 53/100\n",
      "334/334 [==============================] - ETA: 0s - loss: 0.0098 - acc: 0.9975 - f1_score: 0.9975\n",
      "Epoch 00053: val_f1_score did not improve from 0.93703\n",
      "334/334 [==============================] - 17s 50ms/step - loss: 0.0098 - acc: 0.9975 - f1_score: 0.9975 - val_loss: 0.2893 - val_acc: 0.9368 - val_f1_score: 0.9342\n",
      "Epoch 54/100\n",
      "333/334 [============================>.] - ETA: 0s - loss: 0.0096 - acc: 0.9974 - f1_score: 0.9972\n",
      "Epoch 00054: val_f1_score did not improve from 0.93703\n",
      "334/334 [==============================] - 16s 49ms/step - loss: 0.0096 - acc: 0.9974 - f1_score: 0.9972 - val_loss: 0.2866 - val_acc: 0.9384 - val_f1_score: 0.9351\n",
      "Epoch 55/100\n",
      "333/334 [============================>.] - ETA: 0s - loss: 0.0099 - acc: 0.9977 - f1_score: 0.9974\n",
      "Epoch 00055: val_f1_score did not improve from 0.93703\n",
      "334/334 [==============================] - 16s 49ms/step - loss: 0.0099 - acc: 0.9977 - f1_score: 0.9974 - val_loss: 0.2911 - val_acc: 0.9368 - val_f1_score: 0.9340\n",
      "Epoch 56/100\n",
      "333/334 [============================>.] - ETA: 0s - loss: 0.0086 - acc: 0.9977 - f1_score: 0.9975\n",
      "Epoch 00056: val_f1_score did not improve from 0.93703\n",
      "334/334 [==============================] - 17s 49ms/step - loss: 0.0086 - acc: 0.9978 - f1_score: 0.9975 - val_loss: 0.2916 - val_acc: 0.9368 - val_f1_score: 0.9341\n",
      "Epoch 57/100\n",
      "333/334 [============================>.] - ETA: 0s - loss: 0.0099 - acc: 0.9977 - f1_score: 0.9976\n",
      "Epoch 00057: val_f1_score did not improve from 0.93703\n",
      "334/334 [==============================] - 16s 49ms/step - loss: 0.0099 - acc: 0.9977 - f1_score: 0.9976 - val_loss: 0.2997 - val_acc: 0.9384 - val_f1_score: 0.9342\n",
      "Epoch 58/100\n",
      "334/334 [==============================] - ETA: 0s - loss: 0.0089 - acc: 0.9977 - f1_score: 0.9977\n",
      "Epoch 00058: val_f1_score did not improve from 0.93703\n",
      "334/334 [==============================] - 16s 48ms/step - loss: 0.0089 - acc: 0.9977 - f1_score: 0.9977 - val_loss: 0.3033 - val_acc: 0.9376 - val_f1_score: 0.9343\n",
      "Epoch 59/100\n",
      "334/334 [==============================] - ETA: 0s - loss: 0.0092 - acc: 0.9979 - f1_score: 0.9976\n",
      "Epoch 00059: val_f1_score did not improve from 0.93703\n",
      "334/334 [==============================] - 16s 48ms/step - loss: 0.0092 - acc: 0.9979 - f1_score: 0.9976 - val_loss: 0.2971 - val_acc: 0.9359 - val_f1_score: 0.9330\n",
      "Epoch 60/100\n",
      "333/334 [============================>.] - ETA: 0s - loss: 0.0083 - acc: 0.9977 - f1_score: 0.9976\n",
      "Epoch 00060: val_f1_score did not improve from 0.93703\n",
      "334/334 [==============================] - 17s 50ms/step - loss: 0.0083 - acc: 0.9978 - f1_score: 0.9976 - val_loss: 0.2970 - val_acc: 0.9351 - val_f1_score: 0.9339\n",
      "Epoch 61/100\n",
      "334/334 [==============================] - ETA: 0s - loss: 0.0078 - acc: 0.9978 - f1_score: 0.9978\n",
      "Epoch 00061: val_f1_score did not improve from 0.93703\n",
      "334/334 [==============================] - 17s 50ms/step - loss: 0.0078 - acc: 0.9978 - f1_score: 0.9978 - val_loss: 0.3020 - val_acc: 0.9359 - val_f1_score: 0.9338\n",
      "Epoch 62/100\n",
      "334/334 [==============================] - ETA: 0s - loss: 0.0086 - acc: 0.9978 - f1_score: 0.9979\n",
      "Epoch 00062: val_f1_score did not improve from 0.93703\n",
      "334/334 [==============================] - 17s 50ms/step - loss: 0.0086 - acc: 0.9978 - f1_score: 0.9979 - val_loss: 0.3024 - val_acc: 0.9359 - val_f1_score: 0.9349\n",
      "Epoch 63/100\n",
      "334/334 [==============================] - ETA: 0s - loss: 0.0075 - acc: 0.9980 - f1_score: 0.9979\n",
      "Epoch 00063: val_f1_score did not improve from 0.93703\n",
      "334/334 [==============================] - 17s 51ms/step - loss: 0.0075 - acc: 0.9980 - f1_score: 0.9979 - val_loss: 0.3007 - val_acc: 0.9351 - val_f1_score: 0.9354\n",
      "Epoch 64/100\n",
      "334/334 [==============================] - ETA: 0s - loss: 0.0083 - acc: 0.9978 - f1_score: 0.9979\n",
      "Epoch 00064: val_f1_score did not improve from 0.93703\n",
      "334/334 [==============================] - 17s 51ms/step - loss: 0.0083 - acc: 0.9978 - f1_score: 0.9979 - val_loss: 0.3124 - val_acc: 0.9368 - val_f1_score: 0.9355\n",
      "Epoch 65/100\n",
      "334/334 [==============================] - ETA: 0s - loss: 0.0083 - acc: 0.9977 - f1_score: 0.9975\n",
      "Epoch 00065: val_f1_score did not improve from 0.93703\n",
      "334/334 [==============================] - 16s 48ms/step - loss: 0.0083 - acc: 0.9977 - f1_score: 0.9975 - val_loss: 0.3074 - val_acc: 0.9351 - val_f1_score: 0.9346\n",
      "Epoch 66/100\n",
      "334/334 [==============================] - ETA: 0s - loss: 0.0072 - acc: 0.9979 - f1_score: 0.9979\n",
      "Epoch 00066: val_f1_score did not improve from 0.93703\n",
      "334/334 [==============================] - 16s 49ms/step - loss: 0.0072 - acc: 0.9979 - f1_score: 0.9979 - val_loss: 0.3365 - val_acc: 0.9376 - val_f1_score: 0.9349\n",
      "Epoch 67/100\n",
      "333/334 [============================>.] - ETA: 0s - loss: 0.0079 - acc: 0.9980 - f1_score: 0.9980\n",
      "Epoch 00067: val_f1_score did not improve from 0.93703\n",
      "334/334 [==============================] - 16s 49ms/step - loss: 0.0079 - acc: 0.9980 - f1_score: 0.9980 - val_loss: 0.3141 - val_acc: 0.9359 - val_f1_score: 0.9326\n",
      "Epoch 68/100\n",
      "334/334 [==============================] - ETA: 0s - loss: 0.0072 - acc: 0.9980 - f1_score: 0.9981\n",
      "Epoch 00068: val_f1_score did not improve from 0.93703\n",
      "334/334 [==============================] - 16s 48ms/step - loss: 0.0072 - acc: 0.9980 - f1_score: 0.9981 - val_loss: 0.3388 - val_acc: 0.9384 - val_f1_score: 0.9353\n",
      "Epoch 69/100\n",
      "334/334 [==============================] - ETA: 0s - loss: 0.0070 - acc: 0.9982 - f1_score: 0.9982\n",
      "Epoch 00069: val_f1_score did not improve from 0.93703\n",
      "334/334 [==============================] - 16s 48ms/step - loss: 0.0070 - acc: 0.9982 - f1_score: 0.9982 - val_loss: 0.3202 - val_acc: 0.9342 - val_f1_score: 0.9322\n"
     ]
    }
   ],
   "source": [
    "model = tf.keras.models.Sequential([\n",
    "          tf.keras.layers.Embedding(word_embeddings.shape[0], EMBEDDING_DIM, embeddings_initializer=tf.constant_initializer(word_embeddings),\n",
    "                                    input_length = INPUT_DIM, trainable=True),\n",
    "          tf.keras.layers.Conv1D(filters=128, kernel_size=5, activation='relu'),\n",
    "          tf.keras.layers.MaxPooling1D(pool_size=2),\n",
    "          tf.keras.layers.Flatten(),\n",
    "          tf.keras.layers.Dropout(0.2),\n",
    "          tf.keras.layers.Dense(4, activation='softmax')\n",
    "          ])\n",
    "\n",
    "name = \"CNN\"\n",
    "model, history = train_model(model, epochs=100, lr=0.0001, name=name)"
   ]
  },
  {
   "cell_type": "markdown",
   "metadata": {
    "id": "z2BRetkHc2IS"
   },
   "source": [
    "### Step 4 - Test Prediction"
   ]
  },
  {
   "cell_type": "code",
   "execution_count": 27,
   "metadata": {
    "colab": {
     "base_uri": "https://localhost:8080/",
     "height": 206
    },
    "id": "ryRF0VHIBfjP",
    "outputId": "3d932513-04f3-45b2-dd87-d6d5994e7395"
   },
   "outputs": [
    {
     "data": {
      "text/html": [
       "<div>\n",
       "<style scoped>\n",
       "    .dataframe tbody tr th:only-of-type {\n",
       "        vertical-align: middle;\n",
       "    }\n",
       "\n",
       "    .dataframe tbody tr th {\n",
       "        vertical-align: top;\n",
       "    }\n",
       "\n",
       "    .dataframe thead th {\n",
       "        text-align: right;\n",
       "    }\n",
       "</style>\n",
       "<table border=\"1\" class=\"dataframe\">\n",
       "  <thead>\n",
       "    <tr style=\"text-align: right;\">\n",
       "      <th></th>\n",
       "      <th>id</th>\n",
       "      <th>comment</th>\n",
       "    </tr>\n",
       "  </thead>\n",
       "  <tbody>\n",
       "    <tr>\n",
       "      <th>0</th>\n",
       "      <td>1</td>\n",
       "      <td>ouuuu 😍😍</td>\n",
       "    </tr>\n",
       "    <tr>\n",
       "      <th>1</th>\n",
       "      <td>2</td>\n",
       "      <td>i copped sidechick and hustle baby 2.0</td>\n",
       "    </tr>\n",
       "    <tr>\n",
       "      <th>2</th>\n",
       "      <td>3</td>\n",
       "      <td>i have mask acne and acne scars with a normal ...</td>\n",
       "    </tr>\n",
       "    <tr>\n",
       "      <th>3</th>\n",
       "      <td>4</td>\n",
       "      <td>i'm disappointed that your brand is promoting...</td>\n",
       "    </tr>\n",
       "    <tr>\n",
       "      <th>4</th>\n",
       "      <td>5</td>\n",
       "      <td>😢 what a waste of products😢 but genuine art ❤</td>\n",
       "    </tr>\n",
       "  </tbody>\n",
       "</table>\n",
       "</div>"
      ],
      "text/plain": [
       "   id                                            comment\n",
       "0   1                                           ouuuu 😍😍\n",
       "1   2             i copped sidechick and hustle baby 2.0\n",
       "2   3  i have mask acne and acne scars with a normal ...\n",
       "3   4   i'm disappointed that your brand is promoting...\n",
       "4   5      😢 what a waste of products😢 but genuine art ❤"
      ]
     },
     "execution_count": 27,
     "metadata": {},
     "output_type": "execute_result"
    }
   ],
   "source": [
    "#load test comments to run prediction\n",
    "test_df  = pd.read_excel('./data/Test.xlsx')\n",
    "test_df.head()"
   ]
  },
  {
   "cell_type": "code",
   "execution_count": 28,
   "metadata": {
    "colab": {
     "base_uri": "https://localhost:8080/",
     "height": 206
    },
    "id": "tMYX2kTec5W1",
    "outputId": "8c5e9637-e831-4a63-9a18-789a73d23832"
   },
   "outputs": [
    {
     "data": {
      "text/html": [
       "<div>\n",
       "<style scoped>\n",
       "    .dataframe tbody tr th:only-of-type {\n",
       "        vertical-align: middle;\n",
       "    }\n",
       "\n",
       "    .dataframe tbody tr th {\n",
       "        vertical-align: top;\n",
       "    }\n",
       "\n",
       "    .dataframe thead th {\n",
       "        text-align: right;\n",
       "    }\n",
       "</style>\n",
       "<table border=\"1\" class=\"dataframe\">\n",
       "  <thead>\n",
       "    <tr style=\"text-align: right;\">\n",
       "      <th></th>\n",
       "      <th>id</th>\n",
       "      <th>comment</th>\n",
       "      <th>cleaned_comment</th>\n",
       "    </tr>\n",
       "  </thead>\n",
       "  <tbody>\n",
       "    <tr>\n",
       "      <th>0</th>\n",
       "      <td>1</td>\n",
       "      <td>ouuuu 😍😍</td>\n",
       "      <td>[wow, 😍, 😍]</td>\n",
       "    </tr>\n",
       "    <tr>\n",
       "      <th>1</th>\n",
       "      <td>2</td>\n",
       "      <td>i copped sidechick and hustle baby 2.0</td>\n",
       "      <td>[i, copped, sidekick, and, hustle, baby]</td>\n",
       "    </tr>\n",
       "    <tr>\n",
       "      <th>2</th>\n",
       "      <td>3</td>\n",
       "      <td>i have mask acne and acne scars with a normal ...</td>\n",
       "      <td>[i, have, mask, acne, and, acne, scars, with, ...</td>\n",
       "    </tr>\n",
       "    <tr>\n",
       "      <th>3</th>\n",
       "      <td>4</td>\n",
       "      <td>i'm disappointed that your brand is promoting...</td>\n",
       "      <td>[i, am, disappointed, that, your, brand, is, p...</td>\n",
       "    </tr>\n",
       "    <tr>\n",
       "      <th>4</th>\n",
       "      <td>5</td>\n",
       "      <td>😢 what a waste of products😢 but genuine art ❤</td>\n",
       "      <td>[😢, what, a, waste, of, products, 😢, but, genu...</td>\n",
       "    </tr>\n",
       "  </tbody>\n",
       "</table>\n",
       "</div>"
      ],
      "text/plain": [
       "   id                                            comment  \\\n",
       "0   1                                           ouuuu 😍😍   \n",
       "1   2             i copped sidechick and hustle baby 2.0   \n",
       "2   3  i have mask acne and acne scars with a normal ...   \n",
       "3   4   i'm disappointed that your brand is promoting...   \n",
       "4   5      😢 what a waste of products😢 but genuine art ❤   \n",
       "\n",
       "                                     cleaned_comment  \n",
       "0                                        [wow, 😍, 😍]  \n",
       "1           [i, copped, sidekick, and, hustle, baby]  \n",
       "2  [i, have, mask, acne, and, acne, scars, with, ...  \n",
       "3  [i, am, disappointed, that, your, brand, is, p...  \n",
       "4  [😢, what, a, waste, of, products, 😢, but, genu...  "
      ]
     },
     "execution_count": 28,
     "metadata": {},
     "output_type": "execute_result"
    }
   ],
   "source": [
    "test_processed_df = prepare_data(test_df, False)\n",
    "test_processed_df[['id','comment','cleaned_comment']].head()"
   ]
  },
  {
   "cell_type": "markdown",
   "metadata": {},
   "source": [
    "**Using either of the above trained models to run predictions**"
   ]
  },
  {
   "cell_type": "code",
   "execution_count": 1,
   "metadata": {
    "colab": {
     "base_uri": "https://localhost:8080/",
     "height": 519
    },
    "id": "281aj3piE5zC",
    "outputId": "e1d57726-3e19-43b6-f4a8-42da124a0c46"
   },
   "outputs": [],
   "source": [
    "#Loading the saved model to be used for predictions\n",
    "best_model_name = \"LSTM_best_model.h5\"\n",
    "reloaded_model = tf.keras.models.load_model(best_model_name, custom_objects={'f1_score':f1_score})\n",
    "reloaded_model.summary()"
   ]
  },
  {
   "cell_type": "code",
   "execution_count": null,
   "metadata": {
    "id": "iZnqJfx5dQ79"
   },
   "outputs": [],
   "source": [
    "#convert test comments to sequences\n",
    "test_transformed = cust_tokenizer.vectorize_input(test_processed_df['cleaned_comment'])\n",
    "test_predictions = reloaded_model.predict(test_transformed)"
   ]
  },
  {
   "cell_type": "code",
   "execution_count": null,
   "metadata": {
    "colab": {
     "base_uri": "https://localhost:8080/"
    },
    "id": "hjjY6CqVdjJT",
    "outputId": "112f0a82-fa76-4d06-c126-a4d09f27b899"
   },
   "outputs": [
    {
     "data": {
      "text/plain": [
       "array([[5.9205637e-04, 9.9939358e-01, 8.6653063e-06, 5.6645040e-06],\n",
       "       [7.3808628e-01, 2.6165086e-01, 1.7679966e-04, 8.6121487e-05],\n",
       "       [2.2433376e-06, 9.9999774e-01, 4.9798768e-08, 7.9545753e-15],\n",
       "       [1.8378487e-05, 1.0497617e-12, 9.9998152e-01, 6.5858934e-08],\n",
       "       [7.4325253e-05, 1.3333145e-02, 6.2697702e-03, 9.8032272e-01]],\n",
       "      dtype=float32)"
      ]
     },
     "execution_count": 49,
     "metadata": {},
     "output_type": "execute_result"
    }
   ],
   "source": [
    "test_predictions"
   ]
  },
  {
   "cell_type": "code",
   "execution_count": null,
   "metadata": {
    "colab": {
     "base_uri": "https://localhost:8080/"
    },
    "id": "uYlOgdH9LwT4",
    "outputId": "b7cddcac-7e50-49dd-afc5-366a10789fef"
   },
   "outputs": [
    {
     "data": {
      "text/plain": [
       "array([1, 0, 1, 2, 3])"
      ]
     },
     "execution_count": 50,
     "metadata": {},
     "output_type": "execute_result"
    }
   ],
   "source": [
    "np.argmax(test_predictions, axis=1)"
   ]
  }
 ],
 "metadata": {
  "accelerator": "GPU",
  "colab": {
   "collapsed_sections": [],
   "name": "Model_NeuralNetwork.ipynb",
   "provenance": []
  },
  "kernelspec": {
   "display_name": "Python 3 (ipykernel)",
   "language": "python",
   "name": "python3"
  },
  "language_info": {
   "codemirror_mode": {
    "name": "ipython",
    "version": 3
   },
   "file_extension": ".py",
   "mimetype": "text/x-python",
   "name": "python",
   "nbconvert_exporter": "python",
   "pygments_lexer": "ipython3",
   "version": "3.9.5"
  }
 },
 "nbformat": 4,
 "nbformat_minor": 1
}
