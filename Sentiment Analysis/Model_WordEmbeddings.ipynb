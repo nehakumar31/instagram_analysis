{
 "cells": [
  {
   "cell_type": "markdown",
   "metadata": {
    "colab": {
     "base_uri": "https://localhost:8080/"
    },
    "id": "QoaiQwqUuERq",
    "outputId": "878386d5-ce9d-4cf4-cf6f-7b73eec581b4"
   },
   "source": [
    "**Approach - <br>- Data Reading and Understanding<br>- Preprocessing => removal of punctuations, numbers, lemmatization, fixing contractions, spelling correction<br> - Pretrained embeddings => glove embeddings https://nlp.stanford.edu/data/glove.twitter.27B.zip and emoji embeddings https://github.com/MirunaPislar/emoji2vec/tree/master/models <br>- Models => LogisticRegression, SVM, RandomForestClassifier**"
   ]
  },
  {
   "cell_type": "code",
   "execution_count": 3,
   "metadata": {},
   "outputs": [],
   "source": [
    "#download glove embeddings\n",
    "import urllib.request\n",
    "import zipfile\n",
    "\n",
    "urllib.request.urlretrieve(\"https://nlp.stanford.edu/data/glove.twitter.27B.zip\", \"glove.27B.zip\")\n",
    "\n",
    "with zipfile.ZipFile(\"glove.27B.zip\",\"r\") as zip_ref:\n",
    "    zip_ref.extractall(\"./embeddings\")"
   ]
  },
  {
   "cell_type": "code",
   "execution_count": 4,
   "metadata": {
    "colab": {
     "base_uri": "https://localhost:8080/"
    },
    "id": "Y_e3jHZZ5wtG",
    "outputId": "bd89be80-7de5-4073-a0c6-a8a8756477af"
   },
   "outputs": [
    {
     "name": "stderr",
     "output_type": "stream",
     "text": [
      "[nltk_data] Downloading package stopwords to\n",
      "[nltk_data]     C:\\Users\\nehkumar\\AppData\\Roaming\\nltk_data...\n",
      "[nltk_data]   Package stopwords is already up-to-date!\n",
      "[nltk_data] Downloading package wordnet to\n",
      "[nltk_data]     C:\\Users\\nehkumar\\AppData\\Roaming\\nltk_data...\n",
      "[nltk_data]   Package wordnet is already up-to-date!\n",
      "[nltk_data] Downloading package averaged_perceptron_tagger to\n",
      "[nltk_data]     C:\\Users\\nehkumar\\AppData\\Roaming\\nltk_data...\n",
      "[nltk_data]   Package averaged_perceptron_tagger is already up-to-\n",
      "[nltk_data]       date!\n",
      "[nltk_data] Downloading package omw-1.4 to\n",
      "[nltk_data]     C:\\Users\\nehkumar\\AppData\\Roaming\\nltk_data...\n",
      "[nltk_data]   Package omw-1.4 is already up-to-date!\n"
     ]
    }
   ],
   "source": [
    "#All imports\n",
    "from helpers import preprocessing\n",
    "from helpers import models\n",
    "\n",
    "import warnings\n",
    "warnings.filterwarnings('ignore')\n",
    "\n",
    "import pandas as pd\n",
    "import numpy as np\n",
    "import matplotlib.pyplot as plt\n",
    "\n",
    "#preprocessing\n",
    "from sklearn.model_selection import train_test_split"
   ]
  },
  {
   "cell_type": "code",
   "execution_count": 6,
   "metadata": {
    "colab": {
     "base_uri": "https://localhost:8080/"
    },
    "id": "DYcOTtu67VfC",
    "outputId": "54219a31-bef8-4346-bf39-be818241b51e"
   },
   "outputs": [],
   "source": [
    "#reload\n",
    "import importlib\n",
    "importlib.reload(preprocessing)\n",
    "importlib.reload(models)"
   ]
  },
  {
   "cell_type": "code",
   "execution_count": 21,
   "metadata": {
    "id": "bX7zVYQr_O2B"
   },
   "outputs": [],
   "source": [
    "#constants\n",
    "EMBEDDING_DIM = 100"
   ]
  },
  {
   "cell_type": "markdown",
   "metadata": {
    "id": "88n3LmsF78EX"
   },
   "source": [
    "### Step 1 - Data Reading and Understanding"
   ]
  },
  {
   "cell_type": "code",
   "execution_count": 7,
   "metadata": {
    "colab": {
     "base_uri": "https://localhost:8080/",
     "height": 206
    },
    "id": "EoKRYzNm72r3",
    "outputId": "ff70cb47-e4bc-40b7-b3ba-c5a088d3f417"
   },
   "outputs": [
    {
     "data": {
      "text/html": [
       "<div>\n",
       "<style scoped>\n",
       "    .dataframe tbody tr th:only-of-type {\n",
       "        vertical-align: middle;\n",
       "    }\n",
       "\n",
       "    .dataframe tbody tr th {\n",
       "        vertical-align: top;\n",
       "    }\n",
       "\n",
       "    .dataframe thead th {\n",
       "        text-align: right;\n",
       "    }\n",
       "</style>\n",
       "<table border=\"1\" class=\"dataframe\">\n",
       "  <thead>\n",
       "    <tr style=\"text-align: right;\">\n",
       "      <th></th>\n",
       "      <th>comment</th>\n",
       "      <th>Sentiment</th>\n",
       "    </tr>\n",
       "  </thead>\n",
       "  <tbody>\n",
       "    <tr>\n",
       "      <th>0</th>\n",
       "      <td>hashtag hashtag hashtag hashtag hashtag hashta...</td>\n",
       "      <td>Neutral</td>\n",
       "    </tr>\n",
       "    <tr>\n",
       "      <th>1</th>\n",
       "      <td>send it pic _x000D_\\n👁_x000D_\\n👉 user</td>\n",
       "      <td>Neutral</td>\n",
       "    </tr>\n",
       "    <tr>\n",
       "      <th>2</th>\n",
       "      <td>if i get it on time maybe 😢</td>\n",
       "      <td>Mixed</td>\n",
       "    </tr>\n",
       "    <tr>\n",
       "      <th>3</th>\n",
       "      <td>gorgeous ❤</td>\n",
       "      <td>Positive</td>\n",
       "    </tr>\n",
       "    <tr>\n",
       "      <th>4</th>\n",
       "      <td>😍😍😍😍</td>\n",
       "      <td>Positive</td>\n",
       "    </tr>\n",
       "  </tbody>\n",
       "</table>\n",
       "</div>"
      ],
      "text/plain": [
       "                                             comment Sentiment\n",
       "0  hashtag hashtag hashtag hashtag hashtag hashta...   Neutral\n",
       "1              send it pic _x000D_\\n👁_x000D_\\n👉 user   Neutral\n",
       "2                        if i get it on time maybe 😢     Mixed\n",
       "3                                         gorgeous ❤  Positive\n",
       "4                                               😍😍😍😍  Positive"
      ]
     },
     "execution_count": 7,
     "metadata": {},
     "output_type": "execute_result"
    }
   ],
   "source": [
    "#training data load and understanding\n",
    "comments_df = pd.read_excel('./data/comments.xlsx', usecols=['comment','Sentiment' ])\n",
    "comments_df.head()"
   ]
  },
  {
   "cell_type": "code",
   "execution_count": 8,
   "metadata": {
    "colab": {
     "base_uri": "https://localhost:8080/"
    },
    "id": "dvYGGONZ6bBC",
    "outputId": "424c4edb-43ec-4016-eae3-c166d422c5b2"
   },
   "outputs": [
    {
     "data": {
      "text/plain": [
       "(11856, 2)"
      ]
     },
     "execution_count": 8,
     "metadata": {},
     "output_type": "execute_result"
    }
   ],
   "source": [
    "comments_df.shape"
   ]
  },
  {
   "cell_type": "code",
   "execution_count": 9,
   "metadata": {
    "colab": {
     "base_uri": "https://localhost:8080/"
    },
    "id": "StdYXT007__S",
    "outputId": "532961d7-312b-4e1a-b172-ac614d321798"
   },
   "outputs": [
    {
     "name": "stdout",
     "output_type": "stream",
     "text": [
      "<class 'pandas.core.frame.DataFrame'>\n",
      "RangeIndex: 11856 entries, 0 to 11855\n",
      "Data columns (total 2 columns):\n",
      " #   Column     Non-Null Count  Dtype \n",
      "---  ------     --------------  ----- \n",
      " 0   comment    11856 non-null  object\n",
      " 1   Sentiment  11856 non-null  object\n",
      "dtypes: object(2)\n",
      "memory usage: 185.4+ KB\n"
     ]
    }
   ],
   "source": [
    "comments_df.info()"
   ]
  },
  {
   "cell_type": "code",
   "execution_count": 10,
   "metadata": {
    "colab": {
     "base_uri": "https://localhost:8080/"
    },
    "id": "Kkttcmdo8DIM",
    "outputId": "b78374cb-1c4a-418e-b120-2d1db7ab97d8"
   },
   "outputs": [
    {
     "data": {
      "text/plain": [
       "Positive    0.813850\n",
       "Neutral     0.127783\n",
       "Negative    0.052800\n",
       "Mixed       0.005567\n",
       "Name: Sentiment, dtype: float64"
      ]
     },
     "execution_count": 10,
     "metadata": {},
     "output_type": "execute_result"
    }
   ],
   "source": [
    "comments_df['Sentiment'].value_counts(normalize=True)"
   ]
  },
  {
   "cell_type": "markdown",
   "metadata": {
    "id": "20gKaiuW8KCG"
   },
   "source": [
    "### Step 2 - Data Preparation"
   ]
  },
  {
   "cell_type": "code",
   "execution_count": 11,
   "metadata": {
    "id": "Uye-6MQJ8GGi"
   },
   "outputs": [],
   "source": [
    "#clean up and preprocessing using helper module \"preprocessing\"\n",
    "def prepare_data(df, is_train):\n",
    "  processed_df = preprocessing.preprocess_data(df, 'comment')  \n",
    "  processed_df = preprocessing.convert_emoticon(processed_df, 'spelling_corrected', False)\n",
    "  processed_df['cleaned_comment'] = processed_df['emoticon_converted']\n",
    "\n",
    "  if is_train:\n",
    "    processed_df['target'] = processed_df['Sentiment'].map({\"Neutral\":0, \"Positive\":1, \"Negative\":2, \"Mixed\":3})\n",
    "\n",
    "  return processed_df"
   ]
  },
  {
   "cell_type": "code",
   "execution_count": 12,
   "metadata": {
    "colab": {
     "base_uri": "https://localhost:8080/",
     "height": 206
    },
    "id": "1FFk0U9s8usr",
    "outputId": "7af11c94-a861-4dc8-b07f-7a7e358ceb17"
   },
   "outputs": [
    {
     "data": {
      "text/html": [
       "<div>\n",
       "<style scoped>\n",
       "    .dataframe tbody tr th:only-of-type {\n",
       "        vertical-align: middle;\n",
       "    }\n",
       "\n",
       "    .dataframe tbody tr th {\n",
       "        vertical-align: top;\n",
       "    }\n",
       "\n",
       "    .dataframe thead th {\n",
       "        text-align: right;\n",
       "    }\n",
       "</style>\n",
       "<table border=\"1\" class=\"dataframe\">\n",
       "  <thead>\n",
       "    <tr style=\"text-align: right;\">\n",
       "      <th></th>\n",
       "      <th>comment</th>\n",
       "      <th>cleaned_comment</th>\n",
       "      <th>target</th>\n",
       "    </tr>\n",
       "  </thead>\n",
       "  <tbody>\n",
       "    <tr>\n",
       "      <th>0</th>\n",
       "      <td>hashtag hashtag hashtag hashtag hashtag hashta...</td>\n",
       "      <td>[hashtag, hashtag, hashtag, hashtag, hashtag, ...</td>\n",
       "      <td>0</td>\n",
       "    </tr>\n",
       "    <tr>\n",
       "      <th>1</th>\n",
       "      <td>send it pic _x000d_\\n👁_x000d_\\n👉 user</td>\n",
       "      <td>[send, it, picture, 👁, 👉, user]</td>\n",
       "      <td>0</td>\n",
       "    </tr>\n",
       "    <tr>\n",
       "      <th>2</th>\n",
       "      <td>if i get it on time maybe 😢</td>\n",
       "      <td>[if, i, get, it, on, time, maybe, 😢]</td>\n",
       "      <td>3</td>\n",
       "    </tr>\n",
       "    <tr>\n",
       "      <th>3</th>\n",
       "      <td>gorgeous ❤</td>\n",
       "      <td>[gorgeous, ❤]</td>\n",
       "      <td>1</td>\n",
       "    </tr>\n",
       "    <tr>\n",
       "      <th>4</th>\n",
       "      <td>😍😍😍😍</td>\n",
       "      <td>[😍, 😍, 😍]</td>\n",
       "      <td>1</td>\n",
       "    </tr>\n",
       "  </tbody>\n",
       "</table>\n",
       "</div>"
      ],
      "text/plain": [
       "                                             comment  \\\n",
       "0  hashtag hashtag hashtag hashtag hashtag hashta...   \n",
       "1              send it pic _x000d_\\n👁_x000d_\\n👉 user   \n",
       "2                        if i get it on time maybe 😢   \n",
       "3                                         gorgeous ❤   \n",
       "4                                               😍😍😍😍   \n",
       "\n",
       "                                     cleaned_comment  target  \n",
       "0  [hashtag, hashtag, hashtag, hashtag, hashtag, ...       0  \n",
       "1                    [send, it, picture, 👁, 👉, user]       0  \n",
       "2               [if, i, get, it, on, time, maybe, 😢]       3  \n",
       "3                                      [gorgeous, ❤]       1  \n",
       "4                                          [😍, 😍, 😍]       1  "
      ]
     },
     "execution_count": 12,
     "metadata": {},
     "output_type": "execute_result"
    }
   ],
   "source": [
    "train_processed_df = prepare_data(comments_df, True)\n",
    "train_processed_df[['comment', 'cleaned_comment', 'target']].head()"
   ]
  },
  {
   "cell_type": "markdown",
   "metadata": {
    "id": "cibSvTdI9CXe"
   },
   "source": [
    "**Train Val split**"
   ]
  },
  {
   "cell_type": "code",
   "execution_count": 13,
   "metadata": {
    "id": "YZr9K1SN8zwi"
   },
   "outputs": [],
   "source": [
    "X = train_processed_df['cleaned_comment']\n",
    "y = train_processed_df['target']\n",
    "X_train, X_val, y_train, y_val = train_test_split(X, y, stratify = y, train_size=0.9, random_state=100)"
   ]
  },
  {
   "cell_type": "markdown",
   "metadata": {
    "id": "6DTn6UPr9MXm"
   },
   "source": [
    "**Word Embeddings**"
   ]
  },
  {
   "cell_type": "code",
   "execution_count": 15,
   "metadata": {
    "id": "jzlTkfhN9G88"
   },
   "outputs": [],
   "source": [
    "#load glove pretrained embeddings\n",
    "pretrained_embeddings = dict()\n",
    "with open('./embeddings/glove.twitter.27B.100d.txt','r',encoding='utf-8') as file_handle:\n",
    "  for line in file_handle:\n",
    "    values = line.split()\n",
    "    word = values[0]\n",
    "    vector = np.asarray(values[1:],'float32')\n",
    "    pretrained_embeddings[word]=vector"
   ]
  },
  {
   "cell_type": "code",
   "execution_count": 17,
   "metadata": {
    "id": "g9R6Pd7zKF__"
   },
   "outputs": [],
   "source": [
    "#load emoji embeddings\n",
    "emoji_embeddings = dict()\n",
    "with open('./embeddings/emoji_embeddings_100d.txt','r',encoding='utf-8') as file_handle:\n",
    "  for line in file_handle:\n",
    "    values = line.split()\n",
    "    word = values[0]\n",
    "    vector = np.asarray(values[1:],'float32')\n",
    "    emoji_embeddings[word]=vector"
   ]
  },
  {
   "cell_type": "code",
   "execution_count": 19,
   "metadata": {
    "id": "UuRdDt-h-MTn"
   },
   "outputs": [],
   "source": [
    "#helper function to convert a comment to its embedding vector representation\n",
    "def sent_vec(comment):\n",
    "  sent_emb = np.zeros(EMBEDDING_DIM)\n",
    "  ctr = 1\n",
    "  for token in comment:    \n",
    "    if token in pretrained_embeddings:\n",
    "      sent_emb += pretrained_embeddings[token]\n",
    "      ctr += 1\n",
    "    elif token in emoji_embeddings:\n",
    "      sent_emb += emoji_embeddings[token]\n",
    "      ctr += 1\n",
    "  sent_emb = sent_emb / ctr\n",
    "  return sent_emb"
   ]
  },
  {
   "cell_type": "code",
   "execution_count": 22,
   "metadata": {
    "id": "SXtLQ8kIGmpM"
   },
   "outputs": [],
   "source": [
    "#convert input text to embedding representation\n",
    "X_train_vecs = []\n",
    "for comment in X_train:    \n",
    "  X_train_vecs.append(sent_vec(comment))\n",
    "\n",
    "X_val_vecs = []\n",
    "for comment in X_val:    \n",
    "  X_val_vecs.append(sent_vec(comment))"
   ]
  },
  {
   "cell_type": "markdown",
   "metadata": {
    "id": "r4EULTrxBPky"
   },
   "source": [
    "### Step 3 - Model Building"
   ]
  },
  {
   "cell_type": "markdown",
   "metadata": {},
   "source": [
    "**Models grid search and execution uses helper module - models**"
   ]
  },
  {
   "cell_type": "markdown",
   "metadata": {
    "id": "HLvAN5YTBTvx"
   },
   "source": [
    "**Model 1 - Logistic Regression**"
   ]
  },
  {
   "cell_type": "code",
   "execution_count": null,
   "metadata": {
    "colab": {
     "base_uri": "https://localhost:8080/"
    },
    "id": "VzJ9TpsSFkpF",
    "outputId": "6af874b7-fa7e-47eb-9a4e-cc8399ab57d5"
   },
   "outputs": [
    {
     "name": "stdout",
     "output_type": "stream",
     "text": [
      "Fitting 15 folds for each of 12 candidates, totalling 180 fits\n",
      "train F1 Score: 0.8261909702752596\n"
     ]
    }
   ],
   "source": [
    "#for logistic regression, hyper-params specified in module - models are enough, so empty containers here\n",
    "pipeline_elements = []\n",
    "hyper_params = dict()\n",
    "\n",
    "grid_model = models.logistic_regression_grid(pipeline_elements, hyper_params, X_train_vecs, y_train)"
   ]
  },
  {
   "cell_type": "code",
   "execution_count": null,
   "metadata": {
    "colab": {
     "base_uri": "https://localhost:8080/",
     "height": 426
    },
    "id": "C9IvejAwgqoM",
    "outputId": "0a0fd724-66a0-4ae6-f357-f633d0a07edb"
   },
   "outputs": [
    {
     "data": {
      "text/html": [
       "\n",
       "  <div id=\"df-e36ad582-0e86-4a59-abfe-bae0828df410\">\n",
       "    <div class=\"colab-df-container\">\n",
       "      <div>\n",
       "<style scoped>\n",
       "    .dataframe tbody tr th:only-of-type {\n",
       "        vertical-align: middle;\n",
       "    }\n",
       "\n",
       "    .dataframe tbody tr th {\n",
       "        vertical-align: top;\n",
       "    }\n",
       "\n",
       "    .dataframe thead th {\n",
       "        text-align: right;\n",
       "    }\n",
       "</style>\n",
       "<table border=\"1\" class=\"dataframe\">\n",
       "  <thead>\n",
       "    <tr style=\"text-align: right;\">\n",
       "      <th></th>\n",
       "      <th>C</th>\n",
       "      <th>mean_train_score</th>\n",
       "      <th>mean_test_score</th>\n",
       "    </tr>\n",
       "  </thead>\n",
       "  <tbody>\n",
       "    <tr>\n",
       "      <th>0</th>\n",
       "      <td>0.0001</td>\n",
       "      <td>0.723434</td>\n",
       "      <td>0.723246</td>\n",
       "    </tr>\n",
       "    <tr>\n",
       "      <th>1</th>\n",
       "      <td>0.001</td>\n",
       "      <td>0.750102</td>\n",
       "      <td>0.748311</td>\n",
       "    </tr>\n",
       "    <tr>\n",
       "      <th>2</th>\n",
       "      <td>0.01</td>\n",
       "      <td>0.779535</td>\n",
       "      <td>0.777399</td>\n",
       "    </tr>\n",
       "    <tr>\n",
       "      <th>3</th>\n",
       "      <td>0.1</td>\n",
       "      <td>0.811149</td>\n",
       "      <td>0.806470</td>\n",
       "    </tr>\n",
       "    <tr>\n",
       "      <th>4</th>\n",
       "      <td>0.5</td>\n",
       "      <td>0.826745</td>\n",
       "      <td>0.818377</td>\n",
       "    </tr>\n",
       "    <tr>\n",
       "      <th>5</th>\n",
       "      <td>1</td>\n",
       "      <td>0.829019</td>\n",
       "      <td>0.819833</td>\n",
       "    </tr>\n",
       "    <tr>\n",
       "      <th>6</th>\n",
       "      <td>2</td>\n",
       "      <td>0.828562</td>\n",
       "      <td>0.818231</td>\n",
       "    </tr>\n",
       "    <tr>\n",
       "      <th>7</th>\n",
       "      <td>5</td>\n",
       "      <td>0.829244</td>\n",
       "      <td>0.818095</td>\n",
       "    </tr>\n",
       "    <tr>\n",
       "      <th>8</th>\n",
       "      <td>10</td>\n",
       "      <td>0.828426</td>\n",
       "      <td>0.817448</td>\n",
       "    </tr>\n",
       "    <tr>\n",
       "      <th>9</th>\n",
       "      <td>12</td>\n",
       "      <td>0.828610</td>\n",
       "      <td>0.817963</td>\n",
       "    </tr>\n",
       "    <tr>\n",
       "      <th>10</th>\n",
       "      <td>15</td>\n",
       "      <td>0.829152</td>\n",
       "      <td>0.818424</td>\n",
       "    </tr>\n",
       "    <tr>\n",
       "      <th>11</th>\n",
       "      <td>20</td>\n",
       "      <td>0.826837</td>\n",
       "      <td>0.815582</td>\n",
       "    </tr>\n",
       "  </tbody>\n",
       "</table>\n",
       "</div>\n",
       "      <button class=\"colab-df-convert\" onclick=\"convertToInteractive('df-e36ad582-0e86-4a59-abfe-bae0828df410')\"\n",
       "              title=\"Convert this dataframe to an interactive table.\"\n",
       "              style=\"display:none;\">\n",
       "        \n",
       "  <svg xmlns=\"http://www.w3.org/2000/svg\" height=\"24px\"viewBox=\"0 0 24 24\"\n",
       "       width=\"24px\">\n",
       "    <path d=\"M0 0h24v24H0V0z\" fill=\"none\"/>\n",
       "    <path d=\"M18.56 5.44l.94 2.06.94-2.06 2.06-.94-2.06-.94-.94-2.06-.94 2.06-2.06.94zm-11 1L8.5 8.5l.94-2.06 2.06-.94-2.06-.94L8.5 2.5l-.94 2.06-2.06.94zm10 10l.94 2.06.94-2.06 2.06-.94-2.06-.94-.94-2.06-.94 2.06-2.06.94z\"/><path d=\"M17.41 7.96l-1.37-1.37c-.4-.4-.92-.59-1.43-.59-.52 0-1.04.2-1.43.59L10.3 9.45l-7.72 7.72c-.78.78-.78 2.05 0 2.83L4 21.41c.39.39.9.59 1.41.59.51 0 1.02-.2 1.41-.59l7.78-7.78 2.81-2.81c.8-.78.8-2.07 0-2.86zM5.41 20L4 18.59l7.72-7.72 1.47 1.35L5.41 20z\"/>\n",
       "  </svg>\n",
       "      </button>\n",
       "      \n",
       "  <style>\n",
       "    .colab-df-container {\n",
       "      display:flex;\n",
       "      flex-wrap:wrap;\n",
       "      gap: 12px;\n",
       "    }\n",
       "\n",
       "    .colab-df-convert {\n",
       "      background-color: #E8F0FE;\n",
       "      border: none;\n",
       "      border-radius: 50%;\n",
       "      cursor: pointer;\n",
       "      display: none;\n",
       "      fill: #1967D2;\n",
       "      height: 32px;\n",
       "      padding: 0 0 0 0;\n",
       "      width: 32px;\n",
       "    }\n",
       "\n",
       "    .colab-df-convert:hover {\n",
       "      background-color: #E2EBFA;\n",
       "      box-shadow: 0px 1px 2px rgba(60, 64, 67, 0.3), 0px 1px 3px 1px rgba(60, 64, 67, 0.15);\n",
       "      fill: #174EA6;\n",
       "    }\n",
       "\n",
       "    [theme=dark] .colab-df-convert {\n",
       "      background-color: #3B4455;\n",
       "      fill: #D2E3FC;\n",
       "    }\n",
       "\n",
       "    [theme=dark] .colab-df-convert:hover {\n",
       "      background-color: #434B5C;\n",
       "      box-shadow: 0px 1px 3px 1px rgba(0, 0, 0, 0.15);\n",
       "      filter: drop-shadow(0px 1px 2px rgba(0, 0, 0, 0.3));\n",
       "      fill: #FFFFFF;\n",
       "    }\n",
       "  </style>\n",
       "\n",
       "      <script>\n",
       "        const buttonEl =\n",
       "          document.querySelector('#df-e36ad582-0e86-4a59-abfe-bae0828df410 button.colab-df-convert');\n",
       "        buttonEl.style.display =\n",
       "          google.colab.kernel.accessAllowed ? 'block' : 'none';\n",
       "\n",
       "        async function convertToInteractive(key) {\n",
       "          const element = document.querySelector('#df-e36ad582-0e86-4a59-abfe-bae0828df410');\n",
       "          const dataTable =\n",
       "            await google.colab.kernel.invokeFunction('convertToInteractive',\n",
       "                                                     [key], {});\n",
       "          if (!dataTable) return;\n",
       "\n",
       "          const docLinkHtml = 'Like what you see? Visit the ' +\n",
       "            '<a target=\"_blank\" href=https://colab.research.google.com/notebooks/data_table.ipynb>data table notebook</a>'\n",
       "            + ' to learn more about interactive tables.';\n",
       "          element.innerHTML = '';\n",
       "          dataTable['output_type'] = 'display_data';\n",
       "          await google.colab.output.renderOutput(dataTable, element);\n",
       "          const docLink = document.createElement('div');\n",
       "          docLink.innerHTML = docLinkHtml;\n",
       "          element.appendChild(docLink);\n",
       "        }\n",
       "      </script>\n",
       "    </div>\n",
       "  </div>\n",
       "  "
      ],
      "text/plain": [
       "         C  mean_train_score  mean_test_score\n",
       "0   0.0001          0.723434         0.723246\n",
       "1    0.001          0.750102         0.748311\n",
       "2     0.01          0.779535         0.777399\n",
       "3      0.1          0.811149         0.806470\n",
       "4      0.5          0.826745         0.818377\n",
       "5        1          0.829019         0.819833\n",
       "6        2          0.828562         0.818231\n",
       "7        5          0.829244         0.818095\n",
       "8       10          0.828426         0.817448\n",
       "9       12          0.828610         0.817963\n",
       "10      15          0.829152         0.818424\n",
       "11      20          0.826837         0.815582"
      ]
     },
     "execution_count": 21,
     "metadata": {},
     "output_type": "execute_result"
    }
   ],
   "source": [
    "#choose the parameter considering both train and test score to avoid overfitting\n",
    "grid_results = pd.DataFrame({'C':grid_model.cv_results_.get('param_model__C').data, \n",
    "                             'mean_train_score':grid_model.cv_results_.get('mean_train_score'),\n",
    "                             'mean_test_score':grid_model.cv_results_.get('mean_test_score')})\n",
    "grid_results"
   ]
  },
  {
   "cell_type": "code",
   "execution_count": null,
   "metadata": {
    "colab": {
     "base_uri": "https://localhost:8080/",
     "height": 279
    },
    "id": "W2BmENGvifQv",
    "outputId": "85a78442-fc55-4f24-9b56-642b04980c44"
   },
   "outputs": [
    {
     "data": {
      "image/png": "[encoded data removed]",
      "text/plain": [
       "<Figure size 432x288 with 1 Axes>"
      ]
     },
     "metadata": {
      "needs_background": "light"
     },
     "output_type": "display_data"
    }
   ],
   "source": [
    "plt.xlabel(\"C\")\n",
    "plt.plot(grid_results['C'], grid_results['mean_train_score'], label='training')\n",
    "plt.plot(grid_results['C'], grid_results['mean_test_score'], label='validation')\n",
    "plt.legend(loc='upper right')\n",
    "plt.show()"
   ]
  },
  {
   "cell_type": "markdown",
   "metadata": {
    "id": "lIZJZy0mmUAM"
   },
   "source": [
    "**Training full dataset**"
   ]
  },
  {
   "cell_type": "code",
   "execution_count": null,
   "metadata": {
    "colab": {
     "base_uri": "https://localhost:8080/"
    },
    "id": "YTjRWUpmG8v5",
    "outputId": "0ddd80e8-84ae-4424-e436-d5ae65e8e1bf"
   },
   "outputs": [
    {
     "name": "stdout",
     "output_type": "stream",
     "text": [
      "train F1 Score: 0.8261909702752596\n",
      "val F1 Score: 0.8251086555744926\n"
     ]
    }
   ],
   "source": [
    "#Training X_train on selected hyper param\n",
    "final_model_params = {'C':1}\n",
    "final_model = models.logistic_regression(X_train_vecs, y_train, final_model_params)\n",
    "\n",
    "#evaluate on val\n",
    "models.evaluate(final_model, X_val_vecs, y_val, \"val\")"
   ]
  },
  {
   "cell_type": "markdown",
   "metadata": {
    "id": "ublzuRbktAWu"
   },
   "source": [
    "**Model 2 - SVM**"
   ]
  },
  {
   "cell_type": "markdown",
   "metadata": {
    "id": "f33EsEYi-0W5"
   },
   "source": [
    "**kernel - poly**"
   ]
  },
  {
   "cell_type": "code",
   "execution_count": null,
   "metadata": {
    "colab": {
     "base_uri": "https://localhost:8080/"
    },
    "id": "IZjAFf_VtGCR",
    "outputId": "33dd296c-c898-408c-fec1-13db71530ee0"
   },
   "outputs": [
    {
     "name": "stdout",
     "output_type": "stream",
     "text": [
      "Fitting 15 folds for each of 36 candidates, totalling 540 fits\n",
      "train F1 Score: 0.9355292538914176\n"
     ]
    }
   ],
   "source": [
    "#hyper-parameter tuning with kernel - poly, other params C degree gamma are already specified in module - models\n",
    "pipeline_elements = []\n",
    "hyper_params = {'model__kernel':['poly'], 'model__degree':[2,3]}\n",
    "\n",
    "grid_model = models.svm_grid(pipeline_elements, hyper_params, X_train_vecs, y_train)"
   ]
  },
  {
   "cell_type": "code",
   "execution_count": null,
   "metadata": {
    "id": "uDIkrcOl5GbP"
   },
   "outputs": [],
   "source": [
    "#choose params considering both train and test score to avoid over-fitting\n",
    "grid_results = pd.DataFrame({'C':grid_model.cv_results_.get('param_model__C').data, \n",
    "                             'degree':grid_model.cv_results_.get('param_model__degree').data,\n",
    "                             'gamma':grid_model.cv_results_.get('param_model__gamma').data,                             \n",
    "                             'mean_train_score':grid_model.cv_results_.get('mean_train_score'),\n",
    "                             'mean_test_score':grid_model.cv_results_.get('mean_test_score')})\n",
    "grid_results.to_csv('./grid_results.csv', index=False)"
   ]
  },
  {
   "cell_type": "code",
   "execution_count": null,
   "metadata": {
    "colab": {
     "base_uri": "https://localhost:8080/"
    },
    "id": "eCHFVNOe-cN2",
    "outputId": "47028495-9857-4ab9-ada8-980c5c3c64c1"
   },
   "outputs": [
    {
     "name": "stdout",
     "output_type": "stream",
     "text": [
      "train F1 Score: 0.9035547802555323\n",
      "val F1 Score: 0.8764994234914795\n"
     ]
    }
   ],
   "source": [
    "#Training X_train on kernel: poly and degree:3\n",
    "final_poly_params = {'C':2,'degree':3,'gamma':'scale','kernel':'poly'}\n",
    "final_poly_model = models.svm(X_train_vecs, y_train, final_poly_params)\n",
    "\n",
    "#evaluate on val\n",
    "models.evaluate(final_poly_model, X_val_vecs, y_val, \"val\")"
   ]
  },
  {
   "cell_type": "markdown",
   "metadata": {
    "id": "ROMd-MXg-7E8"
   },
   "source": [
    "**kernel - rbf**"
   ]
  },
  {
   "cell_type": "code",
   "execution_count": null,
   "metadata": {
    "colab": {
     "base_uri": "https://localhost:8080/"
    },
    "id": "7dDpq5zf_AVS",
    "outputId": "5e464438-e7fc-4707-b8ae-e10826e3a7c9"
   },
   "outputs": [
    {
     "name": "stdout",
     "output_type": "stream",
     "text": [
      "Fitting 15 folds for each of 18 candidates, totalling 270 fits\n",
      "train F1 Score: 0.9200173148678702\n"
     ]
    }
   ],
   "source": [
    "#hyper-params C and gamma are in module - models\n",
    "pipeline_elements = []\n",
    "hyper_params = {'model__kernel':['rbf']}\n",
    "\n",
    "grid_model = models.svm_grid(pipeline_elements, hyper_params, X_train_vecs, y_train)"
   ]
  },
  {
   "cell_type": "code",
   "execution_count": null,
   "metadata": {
    "id": "4GclGO94_DE_"
   },
   "outputs": [],
   "source": [
    "#select params to avoid overfitting\n",
    "grid_results = pd.DataFrame({'C':grid_model.cv_results_.get('param_model__C').data,                              \n",
    "                             'gamma':grid_model.cv_results_.get('param_model__gamma').data,                             \n",
    "                             'mean_train_score':grid_model.cv_results_.get('mean_train_score'),\n",
    "                             'mean_test_score':grid_model.cv_results_.get('mean_test_score')})\n",
    "grid_results.to_csv('./grid_results.csv', index=False)"
   ]
  },
  {
   "cell_type": "code",
   "execution_count": null,
   "metadata": {
    "colab": {
     "base_uri": "https://localhost:8080/"
    },
    "id": "uCs1TC0F_H6W",
    "outputId": "9fb5729f-8a79-4baf-d0bc-3d875a3e7ff8"
   },
   "outputs": [
    {
     "name": "stdout",
     "output_type": "stream",
     "text": [
      "train F1 Score: 0.9048636841095083\n",
      "val F1 Score: 0.8886638071466352\n"
     ]
    }
   ],
   "source": [
    "#Training X_train on kernel: rbf\n",
    "final_rbf_params = {'C':5,'gamma':'scale','kernel':'rbf', 'degree':0}\n",
    "final_rbf_model = models.svm(X_train_vecs, y_train, final_rbf_params)\n",
    "\n",
    "#evaluate on val\n",
    "models.evaluate(final_rbf_model, X_val_vecs, y_val, \"val\")"
   ]
  },
  {
   "cell_type": "markdown",
   "metadata": {
    "id": "bKgoCaEJ_Qwz"
   },
   "source": [
    "**kernel - sigmoid**"
   ]
  },
  {
   "cell_type": "code",
   "execution_count": null,
   "metadata": {
    "colab": {
     "base_uri": "https://localhost:8080/"
    },
    "id": "ACvyb5QF_Wua",
    "outputId": "d022f070-aaaf-432a-a9e0-047f0bf0c2b6"
   },
   "outputs": [
    {
     "name": "stdout",
     "output_type": "stream",
     "text": [
      "Fitting 15 folds for each of 18 candidates, totalling 270 fits\n",
      "train F1 Score: 0.7906035515931717\n"
     ]
    }
   ],
   "source": [
    "pipeline_elements = []\n",
    "hyper_params = {'model__kernel':['sigmoid']}\n",
    "\n",
    "grid_model = models.svm_grid(pipeline_elements, hyper_params, X_train_vecs, y_train)"
   ]
  },
  {
   "cell_type": "code",
   "execution_count": null,
   "metadata": {
    "id": "aRBPrQ4z_aeN"
   },
   "outputs": [],
   "source": [
    "grid_results = pd.DataFrame({'C':grid_model.cv_results_.get('param_model__C').data,                              \n",
    "                             'gamma':grid_model.cv_results_.get('param_model__gamma').data,                             \n",
    "                             'mean_train_score':grid_model.cv_results_.get('mean_train_score'),\n",
    "                             'mean_test_score':grid_model.cv_results_.get('mean_test_score')})\n",
    "grid_results.to_csv('./grid_results.csv', index=False)"
   ]
  },
  {
   "cell_type": "code",
   "execution_count": null,
   "metadata": {
    "colab": {
     "base_uri": "https://localhost:8080/"
    },
    "id": "3rUe_L6G_bmF",
    "outputId": "a8e77b7e-eae1-42f3-9032-da06ccea443a"
   },
   "outputs": [
    {
     "name": "stdout",
     "output_type": "stream",
     "text": [
      "train F1 Score: 0.7906035515931717\n",
      "val F1 Score: 0.7926967234404783\n"
     ]
    }
   ],
   "source": [
    "#Training X_train on kernel: sigmoid\n",
    "final_sigmoid_params = {'C':5,'gamma':'auto','kernel':'sigmoid', 'degree':0}\n",
    "final_sigmoid_model = models.svm(X_train_vecs, y_train, final_sigmoid_params)\n",
    "\n",
    "#evaluate on val\n",
    "models.evaluate(final_sigmoid_model, X_val_vecs, y_val, \"val\")"
   ]
  },
  {
   "cell_type": "markdown",
   "metadata": {
    "id": "RQ1RIfqz8Zul"
   },
   "source": [
    "**Model 3 - Random Forest Classifier**"
   ]
  },
  {
   "cell_type": "markdown",
   "metadata": {},
   "source": [
    "**Tuning hyper-parameters of RF in stages<br>- n_estimators and max_depth by initializing rest to a constant value<br> - tuning min_samples_split and min_samples_leaf**"
   ]
  },
  {
   "cell_type": "code",
   "execution_count": null,
   "metadata": {
    "colab": {
     "base_uri": "https://localhost:8080/"
    },
    "id": "fzwsVv7FAIDo",
    "outputId": "37cdec1a-2929-4134-f6bb-52b125c87049"
   },
   "outputs": [
    {
     "name": "stdout",
     "output_type": "stream",
     "text": [
      "Fitting 15 folds for each of 12 candidates, totalling 180 fits\n"
     ]
    }
   ],
   "source": [
    "#Invoke gridsearch cv to tune important parameters like n_estimators and max_depth of tree keeping some values constant for other tree parameters\n",
    "model = models.RandomForestClassifier(random_state=100, class_weight='balanced', max_features='sqrt',\n",
    "                                      min_samples_split=50, min_samples_leaf=50, n_jobs=-1)\n",
    "hyper_params = {'n_estimators':range(50,130,10), 'max_depth':range(3,12,1)} \n",
    "\n",
    "grid_model = models.gridsearch_cv(model, hyper_params, X_train_vecs, y_train)"
   ]
  },
  {
   "cell_type": "code",
   "execution_count": null,
   "metadata": {
    "id": "dHIyVHDYjKOP"
   },
   "outputs": [],
   "source": [
    "grid_results = pd.DataFrame({'max_depth':grid_model.cv_results_.get('param_max_depth').data, \n",
    "                             'estimators':grid_model.cv_results_.get('param_n_estimators').data,                             \n",
    "                             'mean_train_score':grid_model.cv_results_.get('mean_train_score'),\n",
    "                             'mean_test_score':grid_model.cv_results_.get('mean_test_score')})\n",
    "grid_results.to_csv('./grid_results.csv')"
   ]
  },
  {
   "cell_type": "code",
   "execution_count": null,
   "metadata": {
    "colab": {
     "base_uri": "https://localhost:8080/"
    },
    "id": "6aDnlQEMkxr-",
    "outputId": "664dfe19-31c6-41d1-f76b-89d12c988370"
   },
   "outputs": [
    {
     "name": "stdout",
     "output_type": "stream",
     "text": [
      "Fitting 15 folds for each of 64 candidates, totalling 960 fits\n"
     ]
    }
   ],
   "source": [
    "#Based on grid results, max_depth=9 and number of estimators=90\n",
    "model = models.RandomForestClassifier(random_state=100, class_weight='balanced', max_features='sqrt',\n",
    "                                      max_depth=9, n_estimators=90, n_jobs=-1)\n",
    "hyper_params = {'min_samples_split':range(50,200,20), 'min_samples_leaf':range(50,200,20)} \n",
    "\n",
    "grid_model = models.gridsearch_cv(model, hyper_params, X_train_vecs, y_train)"
   ]
  },
  {
   "cell_type": "code",
   "execution_count": null,
   "metadata": {
    "id": "oWUA3f8SuJfc"
   },
   "outputs": [],
   "source": [
    "grid_results = pd.DataFrame({'min_samples_split':grid_model.cv_results_.get('param_min_samples_split').data, \n",
    "                             'min_samples_leaf':grid_model.cv_results_.get('param_min_samples_leaf').data,                             \n",
    "                             'mean_train_score':grid_model.cv_results_.get('mean_train_score'),\n",
    "                             'mean_test_score':grid_model.cv_results_.get('mean_test_score')})\n",
    "grid_results.to_csv('./grid_results.csv')"
   ]
  },
  {
   "cell_type": "code",
   "execution_count": null,
   "metadata": {
    "colab": {
     "base_uri": "https://localhost:8080/"
    },
    "id": "4Qk8H0fT46Ar",
    "outputId": "2c89050a-50a3-4094-9b36-20673cce4eca"
   },
   "outputs": [
    {
     "name": "stdout",
     "output_type": "stream",
     "text": [
      "train F1 Score: 0.8743296749745566\n",
      "val F1 Score: 0.8665584569236727\n"
     ]
    }
   ],
   "source": [
    "#Based on grid results, min_samples_split=90 and min_samples_leaf=50\n",
    "\n",
    "#Training X_train on selected params\n",
    "final_model_params = {'n_estimators':90, 'max_depth':9, 'min_samples_split':90, 'min_samples_leaf':50}\n",
    "final_model = models.rf_classifier(X_train_vecs, y_train, final_model_params)\n",
    "\n",
    "#evaluate on val\n",
    "models.evaluate(final_model, X_val_vecs, y_val, \"val\")"
   ]
  },
  {
   "cell_type": "markdown",
   "metadata": {
    "id": "z2BRetkHc2IS"
   },
   "source": [
    "### Step 4 - Test Prediction"
   ]
  },
  {
   "cell_type": "code",
   "execution_count": 25,
   "metadata": {
    "colab": {
     "base_uri": "https://localhost:8080/",
     "height": 206
    },
    "id": "ryRF0VHIBfjP",
    "outputId": "8dffad13-3d05-4a83-eed5-edb1631a2e83"
   },
   "outputs": [
    {
     "data": {
      "text/html": [
       "<div>\n",
       "<style scoped>\n",
       "    .dataframe tbody tr th:only-of-type {\n",
       "        vertical-align: middle;\n",
       "    }\n",
       "\n",
       "    .dataframe tbody tr th {\n",
       "        vertical-align: top;\n",
       "    }\n",
       "\n",
       "    .dataframe thead th {\n",
       "        text-align: right;\n",
       "    }\n",
       "</style>\n",
       "<table border=\"1\" class=\"dataframe\">\n",
       "  <thead>\n",
       "    <tr style=\"text-align: right;\">\n",
       "      <th></th>\n",
       "      <th>id</th>\n",
       "      <th>comment</th>\n",
       "    </tr>\n",
       "  </thead>\n",
       "  <tbody>\n",
       "    <tr>\n",
       "      <th>0</th>\n",
       "      <td>1</td>\n",
       "      <td>ouuuu 😍😍</td>\n",
       "    </tr>\n",
       "    <tr>\n",
       "      <th>1</th>\n",
       "      <td>2</td>\n",
       "      <td>i copped sidechick and hustle baby 2.0</td>\n",
       "    </tr>\n",
       "    <tr>\n",
       "      <th>2</th>\n",
       "      <td>3</td>\n",
       "      <td>i have mask acne and acne scars with a normal ...</td>\n",
       "    </tr>\n",
       "    <tr>\n",
       "      <th>3</th>\n",
       "      <td>4</td>\n",
       "      <td>i'm disappointed that your brand is promoting...</td>\n",
       "    </tr>\n",
       "    <tr>\n",
       "      <th>4</th>\n",
       "      <td>5</td>\n",
       "      <td>😢 what a waste of products😢 but genuine art ❤</td>\n",
       "    </tr>\n",
       "  </tbody>\n",
       "</table>\n",
       "</div>"
      ],
      "text/plain": [
       "   id                                            comment\n",
       "0   1                                           ouuuu 😍😍\n",
       "1   2             i copped sidechick and hustle baby 2.0\n",
       "2   3  i have mask acne and acne scars with a normal ...\n",
       "3   4   i'm disappointed that your brand is promoting...\n",
       "4   5      😢 what a waste of products😢 but genuine art ❤"
      ]
     },
     "execution_count": 25,
     "metadata": {},
     "output_type": "execute_result"
    }
   ],
   "source": [
    "test_df  = pd.read_excel( './data/Test.xlsx')\n",
    "test_df.head()"
   ]
  },
  {
   "cell_type": "code",
   "execution_count": 26,
   "metadata": {
    "colab": {
     "base_uri": "https://localhost:8080/",
     "height": 206
    },
    "id": "tMYX2kTec5W1",
    "outputId": "66014e22-a1ba-4ef8-f118-1bd2a8ec8bf6"
   },
   "outputs": [
    {
     "data": {
      "text/html": [
       "<div>\n",
       "<style scoped>\n",
       "    .dataframe tbody tr th:only-of-type {\n",
       "        vertical-align: middle;\n",
       "    }\n",
       "\n",
       "    .dataframe tbody tr th {\n",
       "        vertical-align: top;\n",
       "    }\n",
       "\n",
       "    .dataframe thead th {\n",
       "        text-align: right;\n",
       "    }\n",
       "</style>\n",
       "<table border=\"1\" class=\"dataframe\">\n",
       "  <thead>\n",
       "    <tr style=\"text-align: right;\">\n",
       "      <th></th>\n",
       "      <th>id</th>\n",
       "      <th>comment</th>\n",
       "      <th>cleaned_comment</th>\n",
       "    </tr>\n",
       "  </thead>\n",
       "  <tbody>\n",
       "    <tr>\n",
       "      <th>0</th>\n",
       "      <td>1</td>\n",
       "      <td>ouuuu 😍😍</td>\n",
       "      <td>[wow, 😍, 😍]</td>\n",
       "    </tr>\n",
       "    <tr>\n",
       "      <th>1</th>\n",
       "      <td>2</td>\n",
       "      <td>i copped sidechick and hustle baby 2.0</td>\n",
       "      <td>[i, copped, sidekick, and, hustle, baby]</td>\n",
       "    </tr>\n",
       "    <tr>\n",
       "      <th>2</th>\n",
       "      <td>3</td>\n",
       "      <td>i have mask acne and acne scars with a normal ...</td>\n",
       "      <td>[i, have, mask, acne, and, acne, scars, with, ...</td>\n",
       "    </tr>\n",
       "    <tr>\n",
       "      <th>3</th>\n",
       "      <td>4</td>\n",
       "      <td>i'm disappointed that your brand is promoting...</td>\n",
       "      <td>[i, am, disappointed, that, your, brand, is, p...</td>\n",
       "    </tr>\n",
       "    <tr>\n",
       "      <th>4</th>\n",
       "      <td>5</td>\n",
       "      <td>😢 what a waste of products😢 but genuine art ❤</td>\n",
       "      <td>[😢, what, a, waste, of, products, 😢, but, genu...</td>\n",
       "    </tr>\n",
       "  </tbody>\n",
       "</table>\n",
       "</div>"
      ],
      "text/plain": [
       "   id                                            comment  \\\n",
       "0   1                                           ouuuu 😍😍   \n",
       "1   2             i copped sidechick and hustle baby 2.0   \n",
       "2   3  i have mask acne and acne scars with a normal ...   \n",
       "3   4   i'm disappointed that your brand is promoting...   \n",
       "4   5      😢 what a waste of products😢 but genuine art ❤   \n",
       "\n",
       "                                     cleaned_comment  \n",
       "0                                        [wow, 😍, 😍]  \n",
       "1           [i, copped, sidekick, and, hustle, baby]  \n",
       "2  [i, have, mask, acne, and, acne, scars, with, ...  \n",
       "3  [i, am, disappointed, that, your, brand, is, p...  \n",
       "4  [😢, what, a, waste, of, products, 😢, but, genu...  "
      ]
     },
     "execution_count": 26,
     "metadata": {},
     "output_type": "execute_result"
    }
   ],
   "source": [
    "test_processed_df = prepare_data(test_df, False)\n",
    "test_processed_df[['id','comment','cleaned_comment']].head()"
   ]
  },
  {
   "cell_type": "markdown",
   "metadata": {},
   "source": [
    "**Using either of the above trained model to run predictions**"
   ]
  },
  {
   "cell_type": "code",
   "execution_count": null,
   "metadata": {
    "colab": {
     "base_uri": "https://localhost:8080/"
    },
    "id": "NXGhQfvpc9SS",
    "outputId": "fc5e9f2d-a414-465e-ef32-af2a0d6108cc"
   },
   "outputs": [
    {
     "name": "stdout",
     "output_type": "stream",
     "text": [
      "[1 0 2 2 3]\n"
     ]
    }
   ],
   "source": [
    "X_test = test_processed_df['cleaned_comment']\n",
    "X_test_vecs = []\n",
    "for comment in X_test:    \n",
    "  X_test_vecs.append(sent_vec(comment))\n",
    "  y_test_pred = final_sigmoid_model.predict(X_test_vecs)\n",
    "\n",
    "print(y_test_pred)"
   ]
  }
 ],
 "metadata": {
  "colab": {
   "collapsed_sections": [],
   "name": "Model_WordEmbeddings.ipynb",
   "provenance": []
  },
  "kernelspec": {
   "display_name": "Python 3 (ipykernel)",
   "language": "python",
   "name": "python3"
  },
  "language_info": {
   "codemirror_mode": {
    "name": "ipython",
    "version": 3
   },
   "file_extension": ".py",
   "mimetype": "text/x-python",
   "name": "python",
   "nbconvert_exporter": "python",
   "pygments_lexer": "ipython3",
   "version": "3.9.5"
  }
 },
 "nbformat": 4,
 "nbformat_minor": 1
}
